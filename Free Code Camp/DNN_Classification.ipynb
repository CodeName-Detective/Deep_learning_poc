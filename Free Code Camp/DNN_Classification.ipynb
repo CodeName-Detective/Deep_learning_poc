{
  "nbformat": 4,
  "nbformat_minor": 0,
  "metadata": {
    "colab": {
      "name": "DNN Classification.ipynb",
      "provenance": [],
      "collapsed_sections": []
    },
    "kernelspec": {
      "name": "python3",
      "display_name": "Python 3"
    }
  },
  "cells": [
    {
      "cell_type": "code",
      "metadata": {
        "id": "SHDDVMYl8Yav",
        "colab_type": "code",
        "colab": {}
      },
      "source": [
        "%tensorflow_version 2.x"
      ],
      "execution_count": 0,
      "outputs": []
    },
    {
      "cell_type": "code",
      "metadata": {
        "id": "yfGKYJEZ9SiK",
        "colab_type": "code",
        "colab": {}
      },
      "source": [
        "from __future__ import absolute_import,print_function,unicode_literals\n",
        "\n",
        "import tensorflow as tf\n",
        "import pandas as pd"
      ],
      "execution_count": 0,
      "outputs": []
    },
    {
      "cell_type": "code",
      "metadata": {
        "id": "7BGBZSfW9iyy",
        "colab_type": "code",
        "colab": {}
      },
      "source": [
        "CSV_COLUMN_NAMES = ['SepalLength', 'SepalWidth', 'PetalLength', 'PetalWidth', 'Species']\n",
        "SPECIES = ['Setosa', 'Versicolor', 'Virginica']\n",
        "\n",
        "train_path = tf.keras.utils.get_file(\"iris_training.csv\", \"https://storage.googleapis.com/download.tensorflow.org/data/iris_training.csv\")\n",
        "test_path = tf.keras.utils.get_file(\"iris_test.csv\", \"https://storage.googleapis.com/download.tensorflow.org/data/iris_test.csv\")\n",
        "\n",
        "train = pd.read_csv(train_path, names=CSV_COLUMN_NAMES, header=0)\n",
        "test = pd.read_csv(test_path, names=CSV_COLUMN_NAMES, header=0)"
      ],
      "execution_count": 0,
      "outputs": []
    },
    {
      "cell_type": "code",
      "metadata": {
        "id": "YC7LywFK-CTO",
        "colab_type": "code",
        "colab": {
          "base_uri": "https://localhost:8080/",
          "height": 204
        },
        "outputId": "6b2e43ab-d648-46e0-917c-dedcc59bdd39"
      },
      "source": [
        "train.head()"
      ],
      "execution_count": 10,
      "outputs": [
        {
          "output_type": "execute_result",
          "data": {
            "text/html": [
              "<div>\n",
              "<style scoped>\n",
              "    .dataframe tbody tr th:only-of-type {\n",
              "        vertical-align: middle;\n",
              "    }\n",
              "\n",
              "    .dataframe tbody tr th {\n",
              "        vertical-align: top;\n",
              "    }\n",
              "\n",
              "    .dataframe thead th {\n",
              "        text-align: right;\n",
              "    }\n",
              "</style>\n",
              "<table border=\"1\" class=\"dataframe\">\n",
              "  <thead>\n",
              "    <tr style=\"text-align: right;\">\n",
              "      <th></th>\n",
              "      <th>SepalLength</th>\n",
              "      <th>SepalWidth</th>\n",
              "      <th>PetalLength</th>\n",
              "      <th>PetalWidth</th>\n",
              "      <th>Species</th>\n",
              "    </tr>\n",
              "  </thead>\n",
              "  <tbody>\n",
              "    <tr>\n",
              "      <th>0</th>\n",
              "      <td>6.4</td>\n",
              "      <td>2.8</td>\n",
              "      <td>5.6</td>\n",
              "      <td>2.2</td>\n",
              "      <td>2</td>\n",
              "    </tr>\n",
              "    <tr>\n",
              "      <th>1</th>\n",
              "      <td>5.0</td>\n",
              "      <td>2.3</td>\n",
              "      <td>3.3</td>\n",
              "      <td>1.0</td>\n",
              "      <td>1</td>\n",
              "    </tr>\n",
              "    <tr>\n",
              "      <th>2</th>\n",
              "      <td>4.9</td>\n",
              "      <td>2.5</td>\n",
              "      <td>4.5</td>\n",
              "      <td>1.7</td>\n",
              "      <td>2</td>\n",
              "    </tr>\n",
              "    <tr>\n",
              "      <th>3</th>\n",
              "      <td>4.9</td>\n",
              "      <td>3.1</td>\n",
              "      <td>1.5</td>\n",
              "      <td>0.1</td>\n",
              "      <td>0</td>\n",
              "    </tr>\n",
              "    <tr>\n",
              "      <th>4</th>\n",
              "      <td>5.7</td>\n",
              "      <td>3.8</td>\n",
              "      <td>1.7</td>\n",
              "      <td>0.3</td>\n",
              "      <td>0</td>\n",
              "    </tr>\n",
              "  </tbody>\n",
              "</table>\n",
              "</div>"
            ],
            "text/plain": [
              "   SepalLength  SepalWidth  PetalLength  PetalWidth  Species\n",
              "0          6.4         2.8          5.6         2.2        2\n",
              "1          5.0         2.3          3.3         1.0        1\n",
              "2          4.9         2.5          4.5         1.7        2\n",
              "3          4.9         3.1          1.5         0.1        0\n",
              "4          5.7         3.8          1.7         0.3        0"
            ]
          },
          "metadata": {
            "tags": []
          },
          "execution_count": 10
        }
      ]
    },
    {
      "cell_type": "code",
      "metadata": {
        "id": "4TJIKWaT-R9v",
        "colab_type": "code",
        "colab": {
          "base_uri": "https://localhost:8080/",
          "height": 204
        },
        "outputId": "b5e16b7b-b0c6-4d79-9da9-edf49f3bc494"
      },
      "source": [
        "train_y = train.pop(\"Species\")\n",
        "test_y = test.pop(\"Species\")\n",
        "train.head()"
      ],
      "execution_count": 11,
      "outputs": [
        {
          "output_type": "execute_result",
          "data": {
            "text/html": [
              "<div>\n",
              "<style scoped>\n",
              "    .dataframe tbody tr th:only-of-type {\n",
              "        vertical-align: middle;\n",
              "    }\n",
              "\n",
              "    .dataframe tbody tr th {\n",
              "        vertical-align: top;\n",
              "    }\n",
              "\n",
              "    .dataframe thead th {\n",
              "        text-align: right;\n",
              "    }\n",
              "</style>\n",
              "<table border=\"1\" class=\"dataframe\">\n",
              "  <thead>\n",
              "    <tr style=\"text-align: right;\">\n",
              "      <th></th>\n",
              "      <th>SepalLength</th>\n",
              "      <th>SepalWidth</th>\n",
              "      <th>PetalLength</th>\n",
              "      <th>PetalWidth</th>\n",
              "    </tr>\n",
              "  </thead>\n",
              "  <tbody>\n",
              "    <tr>\n",
              "      <th>0</th>\n",
              "      <td>6.4</td>\n",
              "      <td>2.8</td>\n",
              "      <td>5.6</td>\n",
              "      <td>2.2</td>\n",
              "    </tr>\n",
              "    <tr>\n",
              "      <th>1</th>\n",
              "      <td>5.0</td>\n",
              "      <td>2.3</td>\n",
              "      <td>3.3</td>\n",
              "      <td>1.0</td>\n",
              "    </tr>\n",
              "    <tr>\n",
              "      <th>2</th>\n",
              "      <td>4.9</td>\n",
              "      <td>2.5</td>\n",
              "      <td>4.5</td>\n",
              "      <td>1.7</td>\n",
              "    </tr>\n",
              "    <tr>\n",
              "      <th>3</th>\n",
              "      <td>4.9</td>\n",
              "      <td>3.1</td>\n",
              "      <td>1.5</td>\n",
              "      <td>0.1</td>\n",
              "    </tr>\n",
              "    <tr>\n",
              "      <th>4</th>\n",
              "      <td>5.7</td>\n",
              "      <td>3.8</td>\n",
              "      <td>1.7</td>\n",
              "      <td>0.3</td>\n",
              "    </tr>\n",
              "  </tbody>\n",
              "</table>\n",
              "</div>"
            ],
            "text/plain": [
              "   SepalLength  SepalWidth  PetalLength  PetalWidth\n",
              "0          6.4         2.8          5.6         2.2\n",
              "1          5.0         2.3          3.3         1.0\n",
              "2          4.9         2.5          4.5         1.7\n",
              "3          4.9         3.1          1.5         0.1\n",
              "4          5.7         3.8          1.7         0.3"
            ]
          },
          "metadata": {
            "tags": []
          },
          "execution_count": 11
        }
      ]
    },
    {
      "cell_type": "markdown",
      "metadata": {
        "id": "CV1AJOwm-uZ_",
        "colab_type": "text"
      },
      "source": [
        "### Input Function"
      ]
    },
    {
      "cell_type": "code",
      "metadata": {
        "id": "DqwR6Ff3-jXP",
        "colab_type": "code",
        "colab": {}
      },
      "source": [
        "def input_function(features, labels, training=True, batch_size=256):\n",
        "  dataset = tf.data.Dataset.from_tensor_slices((dict(features),labels))\n",
        "\n",
        "  if training:\n",
        "    dataset = dataset.shuffle(1000).repeat()\n",
        "  \n",
        "  return dataset.batch(batch_size)"
      ],
      "execution_count": 0,
      "outputs": []
    },
    {
      "cell_type": "markdown",
      "metadata": {
        "id": "AXBjmCRtU5nd",
        "colab_type": "text"
      },
      "source": [
        "### Feature Columns"
      ]
    },
    {
      "cell_type": "code",
      "metadata": {
        "id": "6XsDP3jnUrdU",
        "colab_type": "code",
        "colab": {
          "base_uri": "https://localhost:8080/",
          "height": 54
        },
        "outputId": "6487894a-8db4-4d5d-e2e8-5258c857b8ec"
      },
      "source": [
        "my_feature_columns = []\n",
        "for key in train.keys():\n",
        "  my_feature_columns.append(tf.feature_column.numeric_column(key=key))\n",
        "print(my_feature_columns)"
      ],
      "execution_count": 13,
      "outputs": [
        {
          "output_type": "stream",
          "text": [
            "[NumericColumn(key='SepalLength', shape=(1,), default_value=None, dtype=tf.float32, normalizer_fn=None), NumericColumn(key='SepalWidth', shape=(1,), default_value=None, dtype=tf.float32, normalizer_fn=None), NumericColumn(key='PetalLength', shape=(1,), default_value=None, dtype=tf.float32, normalizer_fn=None), NumericColumn(key='PetalWidth', shape=(1,), default_value=None, dtype=tf.float32, normalizer_fn=None)]\n"
          ],
          "name": "stdout"
        }
      ]
    },
    {
      "cell_type": "markdown",
      "metadata": {
        "id": "l7vb8iSwV5h-",
        "colab_type": "text"
      },
      "source": [
        "### Deep Neural Network Classifier"
      ]
    },
    {
      "cell_type": "code",
      "metadata": {
        "id": "SBkC1LimVMs4",
        "colab_type": "code",
        "colab": {
          "base_uri": "https://localhost:8080/",
          "height": 190
        },
        "outputId": "92de38b7-1e64-4199-a176-58a4b4161363"
      },
      "source": [
        " # Building a DNN with 2 hidden layers with 30 and 10 hidden nodes each\n",
        "\n",
        "dnn_classifier = tf.estimator.DNNClassifier(\n",
        "     feature_columns = my_feature_columns,\n",
        "     hidden_units = [30,10],\n",
        "     n_classes=3\n",
        " )"
      ],
      "execution_count": 15,
      "outputs": [
        {
          "output_type": "stream",
          "text": [
            "INFO:tensorflow:Using default config.\n",
            "WARNING:tensorflow:Using temporary folder as model directory: /tmp/tmpvugq8ddq\n",
            "INFO:tensorflow:Using config: {'_model_dir': '/tmp/tmpvugq8ddq', '_tf_random_seed': None, '_save_summary_steps': 100, '_save_checkpoints_steps': None, '_save_checkpoints_secs': 600, '_session_config': allow_soft_placement: true\n",
            "graph_options {\n",
            "  rewrite_options {\n",
            "    meta_optimizer_iterations: ONE\n",
            "  }\n",
            "}\n",
            ", '_keep_checkpoint_max': 5, '_keep_checkpoint_every_n_hours': 10000, '_log_step_count_steps': 100, '_train_distribute': None, '_device_fn': None, '_protocol': None, '_eval_distribute': None, '_experimental_distribute': None, '_experimental_max_worker_delay_secs': None, '_session_creation_timeout_secs': 7200, '_service': None, '_cluster_spec': ClusterSpec({}), '_task_type': 'worker', '_task_id': 0, '_global_id_in_cluster': 0, '_master': '', '_evaluation_master': '', '_is_chief': True, '_num_ps_replicas': 0, '_num_worker_replicas': 1}\n"
          ],
          "name": "stdout"
        }
      ]
    },
    {
      "cell_type": "code",
      "metadata": {
        "id": "8fCVSjEiWgOW",
        "colab_type": "code",
        "colab": {
          "base_uri": "https://localhost:8080/",
          "height": 1000
        },
        "outputId": "06ec2643-0052-4eb1-f2dc-0bd3698b344e"
      },
      "source": [
        "dnn_classifier.train(input_fn=lambda:input_function(train,train_y,training=True),\n",
        "                     steps=5000)"
      ],
      "execution_count": 17,
      "outputs": [
        {
          "output_type": "stream",
          "text": [
            "WARNING:tensorflow:From /tensorflow-2.1.0/python3.6/tensorflow_core/python/ops/resource_variable_ops.py:1635: calling BaseResourceVariable.__init__ (from tensorflow.python.ops.resource_variable_ops) with constraint is deprecated and will be removed in a future version.\n",
            "Instructions for updating:\n",
            "If using Keras pass *_constraint arguments to layers.\n",
            "WARNING:tensorflow:From /tensorflow-2.1.0/python3.6/tensorflow_core/python/training/training_util.py:236: Variable.initialized_value (from tensorflow.python.ops.variables) is deprecated and will be removed in a future version.\n",
            "Instructions for updating:\n",
            "Use Variable.read_value. Variables in 2.X are initialized automatically both in eager and graph (inside tf.defun) contexts.\n",
            "INFO:tensorflow:Calling model_fn.\n",
            "WARNING:tensorflow:Layer dnn is casting an input tensor from dtype float64 to the layer's dtype of float32, which is new behavior in TensorFlow 2.  The layer has dtype float32 because it's dtype defaults to floatx.\n",
            "\n",
            "If you intended to run this layer in float32, you can safely ignore this warning. If in doubt, this warning is likely only an issue if you are porting a TensorFlow 1.X model to TensorFlow 2.\n",
            "\n",
            "To change all layers to have dtype float64 by default, call `tf.keras.backend.set_floatx('float64')`. To change just this layer, pass dtype='float64' to the layer constructor. If you are the author of this layer, you can disable autocasting by passing autocast=False to the base Layer constructor.\n",
            "\n",
            "WARNING:tensorflow:From /tensorflow-2.1.0/python3.6/tensorflow_core/python/keras/optimizer_v2/adagrad.py:103: calling Constant.__init__ (from tensorflow.python.ops.init_ops) with dtype is deprecated and will be removed in a future version.\n",
            "Instructions for updating:\n",
            "Call initializer instance with the dtype argument instead of passing it to the constructor\n",
            "INFO:tensorflow:Done calling model_fn.\n",
            "INFO:tensorflow:Create CheckpointSaverHook.\n",
            "INFO:tensorflow:Graph was finalized.\n",
            "INFO:tensorflow:Running local_init_op.\n",
            "INFO:tensorflow:Done running local_init_op.\n",
            "INFO:tensorflow:Saving checkpoints for 0 into /tmp/tmpvugq8ddq/model.ckpt.\n",
            "INFO:tensorflow:loss = 1.1560135, step = 0\n",
            "INFO:tensorflow:global_step/sec: 297.204\n",
            "INFO:tensorflow:loss = 0.96520114, step = 100 (0.338 sec)\n",
            "INFO:tensorflow:global_step/sec: 375.171\n",
            "INFO:tensorflow:loss = 0.87677944, step = 200 (0.268 sec)\n",
            "INFO:tensorflow:global_step/sec: 369.318\n",
            "INFO:tensorflow:loss = 0.850125, step = 300 (0.269 sec)\n",
            "INFO:tensorflow:global_step/sec: 350.851\n",
            "INFO:tensorflow:loss = 0.8135483, step = 400 (0.285 sec)\n",
            "INFO:tensorflow:global_step/sec: 342.076\n",
            "INFO:tensorflow:loss = 0.7815588, step = 500 (0.293 sec)\n",
            "INFO:tensorflow:global_step/sec: 375.049\n",
            "INFO:tensorflow:loss = 0.75638604, step = 600 (0.268 sec)\n",
            "INFO:tensorflow:global_step/sec: 379.653\n",
            "INFO:tensorflow:loss = 0.71757936, step = 700 (0.261 sec)\n",
            "INFO:tensorflow:global_step/sec: 381.727\n",
            "INFO:tensorflow:loss = 0.7064035, step = 800 (0.265 sec)\n",
            "INFO:tensorflow:global_step/sec: 358.745\n",
            "INFO:tensorflow:loss = 0.68864423, step = 900 (0.279 sec)\n",
            "INFO:tensorflow:global_step/sec: 363.304\n",
            "INFO:tensorflow:loss = 0.6674451, step = 1000 (0.272 sec)\n",
            "INFO:tensorflow:global_step/sec: 353.811\n",
            "INFO:tensorflow:loss = 0.6535338, step = 1100 (0.286 sec)\n",
            "INFO:tensorflow:global_step/sec: 363.99\n",
            "INFO:tensorflow:loss = 0.64064515, step = 1200 (0.272 sec)\n",
            "INFO:tensorflow:global_step/sec: 382.102\n",
            "INFO:tensorflow:loss = 0.6121473, step = 1300 (0.262 sec)\n",
            "INFO:tensorflow:global_step/sec: 372.221\n",
            "INFO:tensorflow:loss = 0.6196264, step = 1400 (0.271 sec)\n",
            "INFO:tensorflow:global_step/sec: 363.696\n",
            "INFO:tensorflow:loss = 0.60132295, step = 1500 (0.273 sec)\n",
            "INFO:tensorflow:global_step/sec: 410.872\n",
            "INFO:tensorflow:loss = 0.56412184, step = 1600 (0.247 sec)\n",
            "INFO:tensorflow:global_step/sec: 390.128\n",
            "INFO:tensorflow:loss = 0.57545877, step = 1700 (0.252 sec)\n",
            "INFO:tensorflow:global_step/sec: 416.478\n",
            "INFO:tensorflow:loss = 0.5599416, step = 1800 (0.241 sec)\n",
            "INFO:tensorflow:global_step/sec: 450.194\n",
            "INFO:tensorflow:loss = 0.54151285, step = 1900 (0.225 sec)\n",
            "INFO:tensorflow:global_step/sec: 409.273\n",
            "INFO:tensorflow:loss = 0.54377437, step = 2000 (0.245 sec)\n",
            "INFO:tensorflow:global_step/sec: 394.662\n",
            "INFO:tensorflow:loss = 0.5357324, step = 2100 (0.249 sec)\n",
            "INFO:tensorflow:global_step/sec: 391.125\n",
            "INFO:tensorflow:loss = 0.52051973, step = 2200 (0.256 sec)\n",
            "INFO:tensorflow:global_step/sec: 381.149\n",
            "INFO:tensorflow:loss = 0.5137043, step = 2300 (0.262 sec)\n",
            "INFO:tensorflow:global_step/sec: 370.52\n",
            "INFO:tensorflow:loss = 0.50745934, step = 2400 (0.273 sec)\n",
            "INFO:tensorflow:global_step/sec: 427.133\n",
            "INFO:tensorflow:loss = 0.5139799, step = 2500 (0.232 sec)\n",
            "INFO:tensorflow:global_step/sec: 410.913\n",
            "INFO:tensorflow:loss = 0.502185, step = 2600 (0.245 sec)\n",
            "INFO:tensorflow:global_step/sec: 417.011\n",
            "INFO:tensorflow:loss = 0.4929282, step = 2700 (0.239 sec)\n",
            "INFO:tensorflow:global_step/sec: 444.022\n",
            "INFO:tensorflow:loss = 0.49232835, step = 2800 (0.224 sec)\n",
            "INFO:tensorflow:global_step/sec: 432.013\n",
            "INFO:tensorflow:loss = 0.48078617, step = 2900 (0.231 sec)\n",
            "INFO:tensorflow:global_step/sec: 440.885\n",
            "INFO:tensorflow:loss = 0.4809406, step = 3000 (0.229 sec)\n",
            "INFO:tensorflow:global_step/sec: 420.828\n",
            "INFO:tensorflow:loss = 0.46732122, step = 3100 (0.237 sec)\n",
            "INFO:tensorflow:global_step/sec: 437.729\n",
            "INFO:tensorflow:loss = 0.47301465, step = 3200 (0.227 sec)\n",
            "INFO:tensorflow:global_step/sec: 439.183\n",
            "INFO:tensorflow:loss = 0.4548552, step = 3300 (0.228 sec)\n",
            "INFO:tensorflow:global_step/sec: 396.789\n",
            "INFO:tensorflow:loss = 0.4548026, step = 3400 (0.250 sec)\n",
            "INFO:tensorflow:global_step/sec: 456.398\n",
            "INFO:tensorflow:loss = 0.45442283, step = 3500 (0.221 sec)\n",
            "INFO:tensorflow:global_step/sec: 431.279\n",
            "INFO:tensorflow:loss = 0.44368494, step = 3600 (0.232 sec)\n",
            "INFO:tensorflow:global_step/sec: 439.368\n",
            "INFO:tensorflow:loss = 0.4196073, step = 3700 (0.229 sec)\n",
            "INFO:tensorflow:global_step/sec: 434.042\n",
            "INFO:tensorflow:loss = 0.43592826, step = 3800 (0.229 sec)\n",
            "INFO:tensorflow:global_step/sec: 409.833\n",
            "INFO:tensorflow:loss = 0.43306923, step = 3900 (0.243 sec)\n",
            "INFO:tensorflow:global_step/sec: 429.833\n",
            "INFO:tensorflow:loss = 0.4329129, step = 4000 (0.235 sec)\n",
            "INFO:tensorflow:global_step/sec: 411.023\n",
            "INFO:tensorflow:loss = 0.44028336, step = 4100 (0.240 sec)\n",
            "INFO:tensorflow:global_step/sec: 429.531\n",
            "INFO:tensorflow:loss = 0.41987363, step = 4200 (0.233 sec)\n",
            "INFO:tensorflow:global_step/sec: 470.917\n",
            "INFO:tensorflow:loss = 0.4043817, step = 4300 (0.214 sec)\n",
            "INFO:tensorflow:global_step/sec: 474.577\n",
            "INFO:tensorflow:loss = 0.39622092, step = 4400 (0.209 sec)\n",
            "INFO:tensorflow:global_step/sec: 478.598\n",
            "INFO:tensorflow:loss = 0.41059265, step = 4500 (0.211 sec)\n",
            "INFO:tensorflow:global_step/sec: 479.075\n",
            "INFO:tensorflow:loss = 0.41751397, step = 4600 (0.207 sec)\n",
            "INFO:tensorflow:global_step/sec: 487.588\n",
            "INFO:tensorflow:loss = 0.4139724, step = 4700 (0.205 sec)\n",
            "INFO:tensorflow:global_step/sec: 468.973\n",
            "INFO:tensorflow:loss = 0.39113092, step = 4800 (0.214 sec)\n",
            "INFO:tensorflow:global_step/sec: 458.276\n",
            "INFO:tensorflow:loss = 0.39881378, step = 4900 (0.221 sec)\n",
            "INFO:tensorflow:Saving checkpoints for 5000 into /tmp/tmpvugq8ddq/model.ckpt.\n",
            "INFO:tensorflow:Loss for final step: 0.39536536.\n"
          ],
          "name": "stdout"
        },
        {
          "output_type": "execute_result",
          "data": {
            "text/plain": [
              "<tensorflow_estimator.python.estimator.canned.dnn.DNNClassifierV2 at 0x7f93ee1c00b8>"
            ]
          },
          "metadata": {
            "tags": []
          },
          "execution_count": 17
        }
      ]
    },
    {
      "cell_type": "code",
      "metadata": {
        "id": "rqbeIkuaXiVY",
        "colab_type": "code",
        "colab": {
          "base_uri": "https://localhost:8080/",
          "height": 326
        },
        "outputId": "88ec3473-285a-434d-b138-a632aea6eb25"
      },
      "source": [
        "result = dnn_classifier.evaluate(input_fn=lambda:input_function(test,test_y,training=False))"
      ],
      "execution_count": 18,
      "outputs": [
        {
          "output_type": "stream",
          "text": [
            "INFO:tensorflow:Calling model_fn.\n",
            "WARNING:tensorflow:Layer dnn is casting an input tensor from dtype float64 to the layer's dtype of float32, which is new behavior in TensorFlow 2.  The layer has dtype float32 because it's dtype defaults to floatx.\n",
            "\n",
            "If you intended to run this layer in float32, you can safely ignore this warning. If in doubt, this warning is likely only an issue if you are porting a TensorFlow 1.X model to TensorFlow 2.\n",
            "\n",
            "To change all layers to have dtype float64 by default, call `tf.keras.backend.set_floatx('float64')`. To change just this layer, pass dtype='float64' to the layer constructor. If you are the author of this layer, you can disable autocasting by passing autocast=False to the base Layer constructor.\n",
            "\n",
            "INFO:tensorflow:Done calling model_fn.\n",
            "INFO:tensorflow:Starting evaluation at 2020-03-07T09:43:17Z\n",
            "INFO:tensorflow:Graph was finalized.\n",
            "INFO:tensorflow:Restoring parameters from /tmp/tmpvugq8ddq/model.ckpt-5000\n",
            "INFO:tensorflow:Running local_init_op.\n",
            "INFO:tensorflow:Done running local_init_op.\n",
            "INFO:tensorflow:Inference Time : 0.30205s\n",
            "INFO:tensorflow:Finished evaluation at 2020-03-07-09:43:17\n",
            "INFO:tensorflow:Saving dict for global step 5000: accuracy = 0.9, average_loss = 0.4616143, global_step = 5000, loss = 0.4616143\n",
            "INFO:tensorflow:Saving 'checkpoint_path' summary for global step 5000: /tmp/tmpvugq8ddq/model.ckpt-5000\n"
          ],
          "name": "stdout"
        }
      ]
    },
    {
      "cell_type": "code",
      "metadata": {
        "id": "oy7-JlnuYJ60",
        "colab_type": "code",
        "colab": {
          "base_uri": "https://localhost:8080/",
          "height": 34
        },
        "outputId": "283fd33c-9fdc-4c90-d9a8-b918784796fa"
      },
      "source": [
        "print(\"Test Set Accuracy : {accuracy:0.3f}\".format(**result))"
      ],
      "execution_count": 19,
      "outputs": [
        {
          "output_type": "stream",
          "text": [
            "Test Set Accuracy : 0.900\n"
          ],
          "name": "stdout"
        }
      ]
    },
    {
      "cell_type": "code",
      "metadata": {
        "id": "u2W-R2X1YaSl",
        "colab_type": "code",
        "colab": {
          "base_uri": "https://localhost:8080/",
          "height": 258
        },
        "outputId": "6e85d0b4-4190-46b1-eded-62296900f6eb"
      },
      "source": [
        "def input_fun(features,batch_size=256):\n",
        "  return tf.data.Dataset.from_tensor_slices(dict(features)).batch(batch_size)\n",
        "\n",
        "features = ['SepalLength', 'SepalWidth', 'PetalLength', 'PetalWidth']\n",
        "predict = {}\n",
        "\n",
        "print(\"Please type numeric values as prompted.\")\n",
        "for feature in features:\n",
        "  valid = True\n",
        "  while valid:\n",
        "    val = input(feature+\":\")\n",
        "    if not val.isdigit():\n",
        "      valid = False\n",
        "  predict[feature] = [float(val)]\n",
        "\n",
        "predictions = dnn_classifier.predict(input_fn=lambda:input_fun(predict))\n",
        "\n",
        "for pred_dict in predictions:\n",
        "  print(pred_dict)\n",
        "  class_id = pred_dict['class_ids'][0]\n",
        "  probability = pred_dict['probabilities'][class_id]\n",
        "  print('Prediction is \"{}\" ({:.1f}%)'.format(SPECIES[class_id], 100 * probability))"
      ],
      "execution_count": 20,
      "outputs": [
        {
          "output_type": "stream",
          "text": [
            "Please type numeric values as prompted.\n",
            "SepalLength:1.3\n",
            "SepalWidth:2.4\n",
            "PetalLength:3.3\n",
            "PetalWidth:4.1\n",
            "INFO:tensorflow:Calling model_fn.\n",
            "INFO:tensorflow:Done calling model_fn.\n",
            "INFO:tensorflow:Graph was finalized.\n",
            "INFO:tensorflow:Restoring parameters from /tmp/tmpvugq8ddq/model.ckpt-5000\n",
            "INFO:tensorflow:Running local_init_op.\n",
            "INFO:tensorflow:Done running local_init_op.\n",
            "{'logits': array([-2.1640704 , -0.3995454 ,  0.25034723], dtype=float32), 'probabilities': array([0.05548758, 0.32398072, 0.6205317 ], dtype=float32), 'class_ids': array([2]), 'classes': array([b'2'], dtype=object), 'all_class_ids': array([0, 1, 2], dtype=int32), 'all_classes': array([b'0', b'1', b'2'], dtype=object)}\n",
            "Prediction is \"Virginica\" (62.1%)\n"
          ],
          "name": "stdout"
        }
      ]
    },
    {
      "cell_type": "code",
      "metadata": {
        "id": "dYBJNTwfcUOp",
        "colab_type": "code",
        "colab": {}
      },
      "source": [
        ""
      ],
      "execution_count": 0,
      "outputs": []
    }
  ]
}
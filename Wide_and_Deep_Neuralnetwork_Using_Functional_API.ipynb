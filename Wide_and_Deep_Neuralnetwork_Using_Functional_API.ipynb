{
  "nbformat": 4,
  "nbformat_minor": 0,
  "metadata": {
    "colab": {
      "name": "Wide and Deep Neuralnetwork_Using Functional API.ipynb",
      "provenance": []
    },
    "kernelspec": {
      "name": "python3",
      "display_name": "Python 3"
    }
  },
  "cells": [
    {
      "cell_type": "code",
      "metadata": {
        "id": "y8D1Ai8Bc2yD",
        "colab_type": "code",
        "colab": {}
      },
      "source": [
        "%tensorflow_version 2.x"
      ],
      "execution_count": 0,
      "outputs": []
    },
    {
      "cell_type": "code",
      "metadata": {
        "id": "401sc8zPc-bn",
        "colab_type": "code",
        "colab": {}
      },
      "source": [
        "import tensorflow as tf\n",
        "import tensorflow.keras as keras"
      ],
      "execution_count": 0,
      "outputs": []
    },
    {
      "cell_type": "code",
      "metadata": {
        "id": "wJ0BPW7LdE3t",
        "colab_type": "code",
        "colab": {}
      },
      "source": [
        "from sklearn.datasets import fetch_california_housing\n",
        "from sklearn.model_selection import train_test_split\n",
        "from sklearn.preprocessing import StandardScaler"
      ],
      "execution_count": 0,
      "outputs": []
    },
    {
      "cell_type": "code",
      "metadata": {
        "id": "-BTPJRWcdJEY",
        "colab_type": "code",
        "colab": {}
      },
      "source": [
        "housing = fetch_california_housing()"
      ],
      "execution_count": 0,
      "outputs": []
    },
    {
      "cell_type": "code",
      "metadata": {
        "id": "3I_q8QxUdM0q",
        "colab_type": "code",
        "colab": {}
      },
      "source": [
        "X_train_full,X_test,y_train_full,y_test = train_test_split(housing.data,housing.target)"
      ],
      "execution_count": 0,
      "outputs": []
    },
    {
      "cell_type": "code",
      "metadata": {
        "id": "ksBXJ9vTdPNO",
        "colab_type": "code",
        "colab": {}
      },
      "source": [
        "X_train,X_valid,y_train,y_valid = train_test_split(X_train_full,y_train_full)"
      ],
      "execution_count": 0,
      "outputs": []
    },
    {
      "cell_type": "code",
      "metadata": {
        "id": "Z85e6VlfdS4R",
        "colab_type": "code",
        "colab": {}
      },
      "source": [
        "scaler =StandardScaler()\n",
        "X_train = scaler.fit_transform(X_train)\n",
        "X_test = scaler.transform(X_test)\n",
        "X_valid = scaler.transform(X_valid)"
      ],
      "execution_count": 0,
      "outputs": []
    },
    {
      "cell_type": "markdown",
      "metadata": {
        "id": "7iL6rWFrdX72",
        "colab_type": "text"
      },
      "source": [
        "#### Model Building\n",
        "- It connects all or part of the inputs directly to the output layers.\n",
        "- This architecture makes it possible for neural network to learn both deep patterns and simple rules."
      ]
    },
    {
      "cell_type": "code",
      "metadata": {
        "id": "VqhqhUQMdVS7",
        "colab_type": "code",
        "colab": {}
      },
      "source": [
        "input_ = keras.layers.Input(shape=X_train.shape[1:])\n",
        "hidden_1 = keras.layers.Dense(30,activation=\"relu\")(input_)\n",
        "hidden_2 = keras.layers.Dense(30,activation=\"relu\")(hidden_1)\n",
        "concat = keras.layers.Concatenate()([input_,hidden_2])\n",
        "output = keras.layers.Dense(1)(concat)\n",
        "\n",
        "model = keras.Model(inputs=[input_],outputs=[output])"
      ],
      "execution_count": 0,
      "outputs": []
    },
    {
      "cell_type": "code",
      "metadata": {
        "id": "KrPJ83hhes_T",
        "colab_type": "code",
        "colab": {
          "base_uri": "https://localhost:8080/",
          "height": 466
        },
        "outputId": "a38ef483-31cc-435d-e5bc-a03ecb9e19a5"
      },
      "source": [
        "keras.utils.plot_model(model)"
      ],
      "execution_count": 83,
      "outputs": [
        {
          "output_type": "execute_result",
          "data": {
            "image/png": "[encoded data removed]",
            "text/plain": [
              "<IPython.core.display.Image object>"
            ]
          },
          "metadata": {
            "tags": []
          },
          "execution_count": 83
        }
      ]
    },
    {
      "cell_type": "markdown",
      "metadata": {
        "id": "buOrekWOiOGW",
        "colab_type": "text"
      },
      "source": [
        "#### Model Compile"
      ]
    },
    {
      "cell_type": "code",
      "metadata": {
        "id": "1xISYRNAfD4w",
        "colab_type": "code",
        "colab": {}
      },
      "source": [
        "model.compile(\n",
        "    loss=\"mean_squared_error\",\n",
        "    optimizer = keras.optimizers.SGD(learning_rate=0.0001)\n",
        ")"
      ],
      "execution_count": 0,
      "outputs": []
    },
    {
      "cell_type": "markdown",
      "metadata": {
        "id": "hADvIDP9iViZ",
        "colab_type": "text"
      },
      "source": [
        "#### Model Train"
      ]
    },
    {
      "cell_type": "code",
      "metadata": {
        "id": "Md0bDaRCiR8c",
        "colab_type": "code",
        "colab": {
          "base_uri": "https://localhost:8080/",
          "height": 1000
        },
        "outputId": "c5e4dedf-7102-4ddd-a719-bc8c51e85772"
      },
      "source": [
        "history = model.fit(X_train,y_train,epochs=50,validation_data=(X_valid,y_valid))"
      ],
      "execution_count": 85,
      "outputs": [
        {
          "output_type": "stream",
          "text": [
            "Train on 11610 samples, validate on 3870 samples\n",
            "Epoch 1/50\n",
            "11610/11610 [==============================] - 1s 94us/sample - loss: 5.5382 - val_loss: 4.8434\n",
            "Epoch 2/50\n",
            "11610/11610 [==============================] - 1s 66us/sample - loss: 4.3429 - val_loss: 3.7663\n",
            "Epoch 3/50\n",
            "11610/11610 [==============================] - 1s 63us/sample - loss: 3.3823 - val_loss: 2.9174\n",
            "Epoch 4/50\n",
            "11610/11610 [==============================] - 1s 64us/sample - loss: 2.6345 - val_loss: 2.2704\n",
            "Epoch 5/50\n",
            "11610/11610 [==============================] - 1s 67us/sample - loss: 2.0654 - val_loss: 1.7908\n",
            "Epoch 6/50\n",
            "11610/11610 [==============================] - 1s 61us/sample - loss: 1.6509 - val_loss: 1.4500\n",
            "Epoch 7/50\n",
            "11610/11610 [==============================] - 1s 65us/sample - loss: 1.3554 - val_loss: 1.2132\n",
            "Epoch 8/50\n",
            "11610/11610 [==============================] - 1s 59us/sample - loss: 1.1496 - val_loss: 1.0501\n",
            "Epoch 9/50\n",
            "11610/11610 [==============================] - 1s 59us/sample - loss: 1.0072 - val_loss: 0.9395\n",
            "Epoch 10/50\n",
            "11610/11610 [==============================] - 1s 60us/sample - loss: 0.9080 - val_loss: 0.8625\n",
            "Epoch 11/50\n",
            "11610/11610 [==============================] - 1s 64us/sample - loss: 0.8380 - val_loss: 0.8079\n",
            "Epoch 12/50\n",
            "11610/11610 [==============================] - 1s 62us/sample - loss: 0.7876 - val_loss: 0.7682\n",
            "Epoch 13/50\n",
            "11610/11610 [==============================] - 1s 63us/sample - loss: 0.7507 - val_loss: 0.7390\n",
            "Epoch 14/50\n",
            "11610/11610 [==============================] - 1s 65us/sample - loss: 0.7232 - val_loss: 0.7165\n",
            "Epoch 15/50\n",
            "11610/11610 [==============================] - 1s 63us/sample - loss: 0.7024 - val_loss: 0.6991\n",
            "Epoch 16/50\n",
            "11610/11610 [==============================] - 1s 63us/sample - loss: 0.6862 - val_loss: 0.6852\n",
            "Epoch 17/50\n",
            "11610/11610 [==============================] - 1s 59us/sample - loss: 0.6733 - val_loss: 0.6737\n",
            "Epoch 18/50\n",
            "11610/11610 [==============================] - 1s 63us/sample - loss: 0.6628 - val_loss: 0.6643\n",
            "Epoch 19/50\n",
            "11610/11610 [==============================] - 1s 58us/sample - loss: 0.6541 - val_loss: 0.6563\n",
            "Epoch 20/50\n",
            "11610/11610 [==============================] - 1s 63us/sample - loss: 0.6467 - val_loss: 0.6494\n",
            "Epoch 21/50\n",
            "11610/11610 [==============================] - 1s 62us/sample - loss: 0.6404 - val_loss: 0.6433\n",
            "Epoch 22/50\n",
            "11610/11610 [==============================] - 1s 62us/sample - loss: 0.6349 - val_loss: 0.6378\n",
            "Epoch 23/50\n",
            "11610/11610 [==============================] - 1s 64us/sample - loss: 0.6299 - val_loss: 0.6328\n",
            "Epoch 24/50\n",
            "11610/11610 [==============================] - 1s 63us/sample - loss: 0.6254 - val_loss: 0.6282\n",
            "Epoch 25/50\n",
            "11610/11610 [==============================] - 1s 56us/sample - loss: 0.6212 - val_loss: 0.6239\n",
            "Epoch 26/50\n",
            "11610/11610 [==============================] - 1s 59us/sample - loss: 0.6172 - val_loss: 0.6200\n",
            "Epoch 27/50\n",
            "11610/11610 [==============================] - 1s 64us/sample - loss: 0.6135 - val_loss: 0.6162\n",
            "Epoch 28/50\n",
            "11610/11610 [==============================] - 1s 65us/sample - loss: 0.6100 - val_loss: 0.6125\n",
            "Epoch 29/50\n",
            "11610/11610 [==============================] - 1s 66us/sample - loss: 0.6067 - val_loss: 0.6091\n",
            "Epoch 30/50\n",
            "11610/11610 [==============================] - 1s 65us/sample - loss: 0.6035 - val_loss: 0.6058\n",
            "Epoch 31/50\n",
            "11610/11610 [==============================] - 1s 62us/sample - loss: 0.6004 - val_loss: 0.6026\n",
            "Epoch 32/50\n",
            "11610/11610 [==============================] - 1s 63us/sample - loss: 0.5975 - val_loss: 0.5995\n",
            "Epoch 33/50\n",
            "11610/11610 [==============================] - 1s 62us/sample - loss: 0.5946 - val_loss: 0.5965\n",
            "Epoch 34/50\n",
            "11610/11610 [==============================] - 1s 69us/sample - loss: 0.5918 - val_loss: 0.5936\n",
            "Epoch 35/50\n",
            "11610/11610 [==============================] - 1s 66us/sample - loss: 0.5891 - val_loss: 0.5908\n",
            "Epoch 36/50\n",
            "11610/11610 [==============================] - 1s 64us/sample - loss: 0.5865 - val_loss: 0.5881\n",
            "Epoch 37/50\n",
            "11610/11610 [==============================] - 1s 71us/sample - loss: 0.5839 - val_loss: 0.5854\n",
            "Epoch 38/50\n",
            "11610/11610 [==============================] - 1s 72us/sample - loss: 0.5814 - val_loss: 0.5828\n",
            "Epoch 39/50\n",
            "11610/11610 [==============================] - 1s 69us/sample - loss: 0.5790 - val_loss: 0.5803\n",
            "Epoch 40/50\n",
            "11610/11610 [==============================] - 1s 70us/sample - loss: 0.5766 - val_loss: 0.5778\n",
            "Epoch 41/50\n",
            "11610/11610 [==============================] - 1s 73us/sample - loss: 0.5743 - val_loss: 0.5754\n",
            "Epoch 42/50\n",
            "11610/11610 [==============================] - 1s 71us/sample - loss: 0.5720 - val_loss: 0.5730\n",
            "Epoch 43/50\n",
            "11610/11610 [==============================] - 1s 63us/sample - loss: 0.5697 - val_loss: 0.5707\n",
            "Epoch 44/50\n",
            "11610/11610 [==============================] - 1s 71us/sample - loss: 0.5676 - val_loss: 0.5684\n",
            "Epoch 45/50\n",
            "11610/11610 [==============================] - 1s 66us/sample - loss: 0.5654 - val_loss: 0.5662\n",
            "Epoch 46/50\n",
            "11610/11610 [==============================] - 1s 68us/sample - loss: 0.5633 - val_loss: 0.5641\n",
            "Epoch 47/50\n",
            "11610/11610 [==============================] - 1s 70us/sample - loss: 0.5612 - val_loss: 0.5619\n",
            "Epoch 48/50\n",
            "11610/11610 [==============================] - 1s 64us/sample - loss: 0.5592 - val_loss: 0.5598\n",
            "Epoch 49/50\n",
            "11610/11610 [==============================] - 1s 64us/sample - loss: 0.5572 - val_loss: 0.5578\n",
            "Epoch 50/50\n",
            "11610/11610 [==============================] - 1s 63us/sample - loss: 0.5553 - val_loss: 0.5558\n"
          ],
          "name": "stdout"
        }
      ]
    },
    {
      "cell_type": "code",
      "metadata": {
        "id": "Lk17Ue3kibo6",
        "colab_type": "code",
        "colab": {
          "base_uri": "https://localhost:8080/",
          "height": 51
        },
        "outputId": "4922d9aa-45de-47ba-b4b3-615ffee573d9"
      },
      "source": [
        "model.evaluate(X_test,y_test)"
      ],
      "execution_count": 86,
      "outputs": [
        {
          "output_type": "stream",
          "text": [
            "5160/5160 [==============================] - 0s 33us/sample - loss: 0.5590\n"
          ],
          "name": "stdout"
        },
        {
          "output_type": "execute_result",
          "data": {
            "text/plain": [
              "0.5590036213860031"
            ]
          },
          "metadata": {
            "tags": []
          },
          "execution_count": 86
        }
      ]
    },
    {
      "cell_type": "markdown",
      "metadata": {
        "id": "G6FKfPNilBkp",
        "colab_type": "text"
      },
      "source": [
        "#### Variant 2"
      ]
    },
    {
      "cell_type": "code",
      "metadata": {
        "id": "_YFtEIigk_ds",
        "colab_type": "code",
        "colab": {}
      },
      "source": [
        "input_A = keras.layers.Input(shape=[5],name=\"wide_input\")\n",
        "input_B = keras.layers.Input(shape=[6],name=\"Deep_input\")\n",
        "hidden_1 = keras.layers.Dense(30,activation=\"relu\")(input_B)\n",
        "hidden_2 = keras.layers.Dense(30,activation=\"relu\")(hidden_1)\n",
        "concat = keras.layers.concatenate([input_A,hidden_2])\n",
        "output = keras.layers.Dense(1,name='output')(concat)\n",
        "\n",
        "model = keras.Model(inputs=[input_A,input_B],outputs=[output])"
      ],
      "execution_count": 0,
      "outputs": []
    },
    {
      "cell_type": "code",
      "metadata": {
        "id": "rP2q52K4o4xD",
        "colab_type": "code",
        "colab": {
          "base_uri": "https://localhost:8080/",
          "height": 466
        },
        "outputId": "0b057436-5f42-42b5-d5dd-fc5d5181d52a"
      },
      "source": [
        "keras.utils.plot_model(model)"
      ],
      "execution_count": 88,
      "outputs": [
        {
          "output_type": "execute_result",
          "data": {
            "image/png": "[encoded data removed]",
            "text/plain": [
              "<IPython.core.display.Image object>"
            ]
          },
          "metadata": {
            "tags": []
          },
          "execution_count": 88
        }
      ]
    },
    {
      "cell_type": "code",
      "metadata": {
        "id": "wEHKNqfn3IrB",
        "colab_type": "code",
        "colab": {}
      },
      "source": [
        "model.compile(\n",
        "    loss=\"mean_squared_error\",\n",
        "    optimizer = keras.optimizers.SGD(learning_rate=0.0001)\n",
        ")"
      ],
      "execution_count": 0,
      "outputs": []
    },
    {
      "cell_type": "code",
      "metadata": {
        "id": "payfsKJh3Zem",
        "colab_type": "code",
        "colab": {}
      },
      "source": [
        "X_train_A,X_train_B = X_train[:,:5], X_train[:,2:]\n",
        "X_valid_A,X_valid_B = X_valid[:,:5], X_valid[:,2:]\n",
        "X_test_A,X_test_B = X_test[:,:5], X_test[:,2:]"
      ],
      "execution_count": 0,
      "outputs": []
    },
    {
      "cell_type": "code",
      "metadata": {
        "id": "wosfsEd93R6u",
        "colab_type": "code",
        "colab": {
          "base_uri": "https://localhost:8080/",
          "height": 1000
        },
        "outputId": "92cb8cef-431f-443b-9fac-2c47d82112ca"
      },
      "source": [
        "history = model.fit({\"wide_input\":X_train_A,\"Deep_input\":X_train_B},y_train,epochs=50,validation_data=({\"wide_input\":X_valid_A,\"Deep_input\":X_valid_B},y_valid))"
      ],
      "execution_count": 91,
      "outputs": [
        {
          "output_type": "stream",
          "text": [
            "Train on 11610 samples, validate on 3870 samples\n",
            "Epoch 1/50\n",
            "11610/11610 [==============================] - 1s 96us/sample - loss: 3.9454 - val_loss: 3.3251\n",
            "Epoch 2/50\n",
            "11610/11610 [==============================] - 1s 77us/sample - loss: 2.9765 - val_loss: 2.5087\n",
            "Epoch 3/50\n",
            "11610/11610 [==============================] - 1s 69us/sample - loss: 2.2792 - val_loss: 1.9289\n",
            "Epoch 4/50\n",
            "11610/11610 [==============================] - 1s 71us/sample - loss: 1.7965 - val_loss: 1.5420\n",
            "Epoch 5/50\n",
            "11610/11610 [==============================] - 1s 72us/sample - loss: 1.4711 - val_loss: 1.2928\n",
            "Epoch 6/50\n",
            "11610/11610 [==============================] - 1s 73us/sample - loss: 1.2553 - val_loss: 1.1316\n",
            "Epoch 7/50\n",
            "11610/11610 [==============================] - 1s 72us/sample - loss: 1.1092 - val_loss: 1.0209\n",
            "Epoch 8/50\n",
            "11610/11610 [==============================] - 1s 70us/sample - loss: 1.0073 - val_loss: 0.9444\n",
            "Epoch 9/50\n",
            "11610/11610 [==============================] - 1s 68us/sample - loss: 0.9328 - val_loss: 0.8884\n",
            "Epoch 10/50\n",
            "11610/11610 [==============================] - 1s 69us/sample - loss: 0.8779 - val_loss: 0.8464\n",
            "Epoch 11/50\n",
            "11610/11610 [==============================] - 1s 68us/sample - loss: 0.8361 - val_loss: 0.8135\n",
            "Epoch 12/50\n",
            "11610/11610 [==============================] - 1s 66us/sample - loss: 0.8035 - val_loss: 0.7878\n",
            "Epoch 13/50\n",
            "11610/11610 [==============================] - 1s 68us/sample - loss: 0.7778 - val_loss: 0.7670\n",
            "Epoch 14/50\n",
            "11610/11610 [==============================] - 1s 74us/sample - loss: 0.7571 - val_loss: 0.7499\n",
            "Epoch 15/50\n",
            "11610/11610 [==============================] - 1s 66us/sample - loss: 0.7402 - val_loss: 0.7355\n",
            "Epoch 16/50\n",
            "11610/11610 [==============================] - 1s 69us/sample - loss: 0.7260 - val_loss: 0.7233\n",
            "Epoch 17/50\n",
            "11610/11610 [==============================] - 1s 64us/sample - loss: 0.7140 - val_loss: 0.7127\n",
            "Epoch 18/50\n",
            "11610/11610 [==============================] - 1s 69us/sample - loss: 0.7037 - val_loss: 0.7033\n",
            "Epoch 19/50\n",
            "11610/11610 [==============================] - 1s 69us/sample - loss: 0.6947 - val_loss: 0.6949\n",
            "Epoch 20/50\n",
            "11610/11610 [==============================] - 1s 60us/sample - loss: 0.6866 - val_loss: 0.6873\n",
            "Epoch 21/50\n",
            "11610/11610 [==============================] - 1s 67us/sample - loss: 0.6795 - val_loss: 0.6804\n",
            "Epoch 22/50\n",
            "11610/11610 [==============================] - 1s 67us/sample - loss: 0.6729 - val_loss: 0.6739\n",
            "Epoch 23/50\n",
            "11610/11610 [==============================] - 1s 69us/sample - loss: 0.6669 - val_loss: 0.6680\n",
            "Epoch 24/50\n",
            "11610/11610 [==============================] - 1s 67us/sample - loss: 0.6613 - val_loss: 0.6624\n",
            "Epoch 25/50\n",
            "11610/11610 [==============================] - 1s 73us/sample - loss: 0.6560 - val_loss: 0.6571\n",
            "Epoch 26/50\n",
            "11610/11610 [==============================] - 1s 67us/sample - loss: 0.6511 - val_loss: 0.6521\n",
            "Epoch 27/50\n",
            "11610/11610 [==============================] - 1s 73us/sample - loss: 0.6464 - val_loss: 0.6473\n",
            "Epoch 28/50\n",
            "11610/11610 [==============================] - 1s 69us/sample - loss: 0.6420 - val_loss: 0.6428\n",
            "Epoch 29/50\n",
            "11610/11610 [==============================] - 1s 67us/sample - loss: 0.6377 - val_loss: 0.6384\n",
            "Epoch 30/50\n",
            "11610/11610 [==============================] - 1s 65us/sample - loss: 0.6336 - val_loss: 0.6343\n",
            "Epoch 31/50\n",
            "11610/11610 [==============================] - 1s 69us/sample - loss: 0.6296 - val_loss: 0.6302\n",
            "Epoch 32/50\n",
            "11610/11610 [==============================] - 1s 67us/sample - loss: 0.6258 - val_loss: 0.6264\n",
            "Epoch 33/50\n",
            "11610/11610 [==============================] - 1s 73us/sample - loss: 0.6221 - val_loss: 0.6226\n",
            "Epoch 34/50\n",
            "11610/11610 [==============================] - 1s 65us/sample - loss: 0.6186 - val_loss: 0.6190\n",
            "Epoch 35/50\n",
            "11610/11610 [==============================] - 1s 66us/sample - loss: 0.6151 - val_loss: 0.6155\n",
            "Epoch 36/50\n",
            "11610/11610 [==============================] - 1s 68us/sample - loss: 0.6117 - val_loss: 0.6121\n",
            "Epoch 37/50\n",
            "11610/11610 [==============================] - 1s 65us/sample - loss: 0.6084 - val_loss: 0.6088\n",
            "Epoch 38/50\n",
            "11610/11610 [==============================] - 1s 67us/sample - loss: 0.6052 - val_loss: 0.6056\n",
            "Epoch 39/50\n",
            "11610/11610 [==============================] - 1s 74us/sample - loss: 0.6022 - val_loss: 0.6025\n",
            "Epoch 40/50\n",
            "11610/11610 [==============================] - 1s 64us/sample - loss: 0.5991 - val_loss: 0.5994\n",
            "Epoch 41/50\n",
            "11610/11610 [==============================] - 1s 66us/sample - loss: 0.5962 - val_loss: 0.5965\n",
            "Epoch 42/50\n",
            "11610/11610 [==============================] - 1s 65us/sample - loss: 0.5933 - val_loss: 0.5936\n",
            "Epoch 43/50\n",
            "11610/11610 [==============================] - 1s 62us/sample - loss: 0.5905 - val_loss: 0.5908\n",
            "Epoch 44/50\n",
            "11610/11610 [==============================] - 1s 65us/sample - loss: 0.5878 - val_loss: 0.5881\n",
            "Epoch 45/50\n",
            "11610/11610 [==============================] - 1s 65us/sample - loss: 0.5851 - val_loss: 0.5854\n",
            "Epoch 46/50\n",
            "11610/11610 [==============================] - 1s 61us/sample - loss: 0.5825 - val_loss: 0.5828\n",
            "Epoch 47/50\n",
            "11610/11610 [==============================] - 1s 62us/sample - loss: 0.5799 - val_loss: 0.5803\n",
            "Epoch 48/50\n",
            "11610/11610 [==============================] - 1s 62us/sample - loss: 0.5774 - val_loss: 0.5778\n",
            "Epoch 49/50\n",
            "11610/11610 [==============================] - 1s 60us/sample - loss: 0.5750 - val_loss: 0.5754\n",
            "Epoch 50/50\n",
            "11610/11610 [==============================] - 1s 58us/sample - loss: 0.5726 - val_loss: 0.5730\n"
          ],
          "name": "stdout"
        }
      ]
    },
    {
      "cell_type": "code",
      "metadata": {
        "id": "nBBUH-jC3WKq",
        "colab_type": "code",
        "colab": {
          "base_uri": "https://localhost:8080/",
          "height": 51
        },
        "outputId": "394e2afe-6326-4ba1-efd5-5b3e5069a7b6"
      },
      "source": [
        "model.evaluate({\"wide_input\":X_test_A,\"Deep_input\":X_test_B},y_test)"
      ],
      "execution_count": 92,
      "outputs": [
        {
          "output_type": "stream",
          "text": [
            "5160/5160 [==============================] - 0s 34us/sample - loss: 0.5732\n"
          ],
          "name": "stdout"
        },
        {
          "output_type": "execute_result",
          "data": {
            "text/plain": [
              "0.5732120527777561"
            ]
          },
          "metadata": {
            "tags": []
          },
          "execution_count": 92
        }
      ]
    },
    {
      "cell_type": "markdown",
      "metadata": {
        "id": "_bh-XYhP7NlE",
        "colab_type": "text"
      },
      "source": [
        "#### Variant3-Multi Output"
      ]
    },
    {
      "cell_type": "code",
      "metadata": {
        "id": "hy57G6ZW4SJM",
        "colab_type": "code",
        "colab": {}
      },
      "source": [
        "input_A = keras.layers.Input(shape=[5],name=\"wide_input\")\n",
        "input_B = keras.layers.Input(shape=[6],name=\"Deep_input\")\n",
        "hidden_1 = keras.layers.Dense(30,activation=\"relu\")(input_B)\n",
        "hidden_2 = keras.layers.Dense(30,activation=\"relu\")(hidden_1)\n",
        "concat = keras.layers.concatenate([input_A,hidden_2])\n",
        "output = keras.layers.Dense(1,name='output')(concat)\n",
        "aux_output = keras.layers.Dense(1,name='aux_output')(hidden_2)\n",
        "\n",
        "model = keras.Model(inputs=[input_A,input_B],outputs=[output,aux_output])"
      ],
      "execution_count": 0,
      "outputs": []
    },
    {
      "cell_type": "code",
      "metadata": {
        "id": "uC5hXot47dX1",
        "colab_type": "code",
        "colab": {
          "base_uri": "https://localhost:8080/",
          "height": 466
        },
        "outputId": "b6c8aa1e-aaa8-4db5-b895-4a5821f2e1f0"
      },
      "source": [
        "keras.utils.plot_model(model)"
      ],
      "execution_count": 95,
      "outputs": [
        {
          "output_type": "execute_result",
          "data": {
            "image/png": "[encoded data removed]",
            "text/plain": [
              "<IPython.core.display.Image object>"
            ]
          },
          "metadata": {
            "tags": []
          },
          "execution_count": 95
        }
      ]
    },
    {
      "cell_type": "markdown",
      "metadata": {
        "id": "l6Aa3olj7pHA",
        "colab_type": "text"
      },
      "source": [
        "#### Model Complie"
      ]
    },
    {
      "cell_type": "code",
      "metadata": {
        "id": "4quvhzsJ7kOI",
        "colab_type": "code",
        "colab": {}
      },
      "source": [
        "model.compile(\n",
        "    loss= ['mse','mse'],\n",
        "    loss_weights = [0.9,0.1],\n",
        "    optimizer =keras.optimizers.SGD(learning_rate=0.0001)\n",
        ")"
      ],
      "execution_count": 0,
      "outputs": []
    },
    {
      "cell_type": "markdown",
      "metadata": {
        "id": "wfh5EtGg8Qf0",
        "colab_type": "text"
      },
      "source": [
        "### Model Training"
      ]
    },
    {
      "cell_type": "code",
      "metadata": {
        "id": "xN4ZGRlt8PBY",
        "colab_type": "code",
        "colab": {
          "base_uri": "https://localhost:8080/",
          "height": 1000
        },
        "outputId": "ecafa767-1dac-4c13-d19b-05dc627eff62"
      },
      "source": [
        "history = model.fit(\n",
        "    {\"wide_input\":X_train_A,\"Deep_input\":X_train_B},\n",
        "    {\"output\":y_train,\"aux_output\":y_train},\n",
        "    epochs=50,\n",
        "    validation_data=({\"wide_input\":X_valid_A,\"Deep_input\":X_valid_B},{\"output\":y_valid,\"aux_output\":y_valid},)\n",
        "    )"
      ],
      "execution_count": 97,
      "outputs": [
        {
          "output_type": "stream",
          "text": [
            "Train on 11610 samples, validate on 3870 samples\n",
            "Epoch 1/50\n",
            "11610/11610 [==============================] - 1s 123us/sample - loss: 4.8194 - output_loss: 4.6998 - aux_output_loss: 5.8906 - val_loss: 4.2881 - val_output_loss: 4.0945 - val_aux_output_loss: 6.0332\n",
            "Epoch 2/50\n",
            "11610/11610 [==============================] - 1s 75us/sample - loss: 3.8157 - output_loss: 3.5814 - aux_output_loss: 5.9254 - val_loss: 3.4455 - val_output_loss: 3.1562 - val_aux_output_loss: 6.0509\n",
            "Epoch 3/50\n",
            "11610/11610 [==============================] - 1s 74us/sample - loss: 3.0762 - output_loss: 2.7601 - aux_output_loss: 5.9181 - val_loss: 2.8045 - val_output_loss: 2.4470 - val_aux_output_loss: 6.0244\n",
            "Epoch 4/50\n",
            "11610/11610 [==============================] - 1s 81us/sample - loss: 2.5194 - output_loss: 2.1467 - aux_output_loss: 5.8710 - val_loss: 2.3242 - val_output_loss: 1.9213 - val_aux_output_loss: 5.9521\n",
            "Epoch 5/50\n",
            "11610/11610 [==============================] - 1s 76us/sample - loss: 2.1092 - output_loss: 1.7014 - aux_output_loss: 5.7830 - val_loss: 1.9743 - val_output_loss: 1.5452 - val_aux_output_loss: 5.8375\n",
            "Epoch 6/50\n",
            "11610/11610 [==============================] - 1s 77us/sample - loss: 1.8164 - output_loss: 1.3900 - aux_output_loss: 5.6540 - val_loss: 1.7278 - val_output_loss: 1.2881 - val_aux_output_loss: 5.6871\n",
            "Epoch 7/50\n",
            "11610/11610 [==============================] - 1s 78us/sample - loss: 1.6111 - output_loss: 1.1791 - aux_output_loss: 5.4992 - val_loss: 1.5557 - val_output_loss: 1.1163 - val_aux_output_loss: 5.5114\n",
            "Epoch 8/50\n",
            "11610/11610 [==============================] - 1s 76us/sample - loss: 1.4669 - output_loss: 1.0381 - aux_output_loss: 5.3214 - val_loss: 1.4333 - val_output_loss: 1.0014 - val_aux_output_loss: 5.3210\n",
            "Epoch 9/50\n",
            "11610/11610 [==============================] - 1s 78us/sample - loss: 1.3632 - output_loss: 0.9441 - aux_output_loss: 5.1369 - val_loss: 1.3436 - val_output_loss: 0.9236 - val_aux_output_loss: 5.1238\n",
            "Epoch 10/50\n",
            "11610/11610 [==============================] - 1s 79us/sample - loss: 1.2859 - output_loss: 0.8792 - aux_output_loss: 4.9457 - val_loss: 1.2748 - val_output_loss: 0.8692 - val_aux_output_loss: 4.9260\n",
            "Epoch 11/50\n",
            "11610/11610 [==============================] - 1s 75us/sample - loss: 1.2257 - output_loss: 0.8333 - aux_output_loss: 4.7566 - val_loss: 1.2198 - val_output_loss: 0.8297 - val_aux_output_loss: 4.7315\n",
            "Epoch 12/50\n",
            "11610/11610 [==============================] - 1s 76us/sample - loss: 1.1770 - output_loss: 0.7998 - aux_output_loss: 4.5719 - val_loss: 1.1741 - val_output_loss: 0.7998 - val_aux_output_loss: 4.5431\n",
            "Epoch 13/50\n",
            "11610/11610 [==============================] - 1s 78us/sample - loss: 1.1359 - output_loss: 0.7737 - aux_output_loss: 4.3945 - val_loss: 1.1346 - val_output_loss: 0.7761 - val_aux_output_loss: 4.3624\n",
            "Epoch 14/50\n",
            "11610/11610 [==============================] - 1s 74us/sample - loss: 1.1003 - output_loss: 0.7533 - aux_output_loss: 4.2240 - val_loss: 1.0999 - val_output_loss: 0.7566 - val_aux_output_loss: 4.1900\n",
            "Epoch 15/50\n",
            "11610/11610 [==============================] - 1s 75us/sample - loss: 1.0687 - output_loss: 0.7360 - aux_output_loss: 4.0622 - val_loss: 1.0689 - val_output_loss: 0.7404 - val_aux_output_loss: 4.0260\n",
            "Epoch 16/50\n",
            "11610/11610 [==============================] - 1s 87us/sample - loss: 1.0403 - output_loss: 0.7217 - aux_output_loss: 3.9074 - val_loss: 1.0407 - val_output_loss: 0.7263 - val_aux_output_loss: 3.8707\n",
            "Epoch 17/50\n",
            "11610/11610 [==============================] - 1s 75us/sample - loss: 1.0145 - output_loss: 0.7092 - aux_output_loss: 3.7625 - val_loss: 1.0149 - val_output_loss: 0.7139 - val_aux_output_loss: 3.7235\n",
            "Epoch 18/50\n",
            "11610/11610 [==============================] - 1s 76us/sample - loss: 0.9907 - output_loss: 0.6981 - aux_output_loss: 3.6238 - val_loss: 0.9912 - val_output_loss: 0.7031 - val_aux_output_loss: 3.5842\n",
            "Epoch 19/50\n",
            "11610/11610 [==============================] - 1s 82us/sample - loss: 0.9688 - output_loss: 0.6884 - aux_output_loss: 3.4942 - val_loss: 0.9692 - val_output_loss: 0.6933 - val_aux_output_loss: 3.4525\n",
            "Epoch 20/50\n",
            "11610/11610 [==============================] - 1s 70us/sample - loss: 0.9485 - output_loss: 0.6792 - aux_output_loss: 3.3694 - val_loss: 0.9487 - val_output_loss: 0.6844 - val_aux_output_loss: 3.3283\n",
            "Epoch 21/50\n",
            "11610/11610 [==============================] - 1s 71us/sample - loss: 0.9295 - output_loss: 0.6711 - aux_output_loss: 3.2529 - val_loss: 0.9296 - val_output_loss: 0.6762 - val_aux_output_loss: 3.2108\n",
            "Epoch 22/50\n",
            "11610/11610 [==============================] - 1s 69us/sample - loss: 0.9118 - output_loss: 0.6640 - aux_output_loss: 3.1432 - val_loss: 0.9118 - val_output_loss: 0.6687 - val_aux_output_loss: 3.0998\n",
            "Epoch 23/50\n",
            "11610/11610 [==============================] - 1s 72us/sample - loss: 0.8953 - output_loss: 0.6572 - aux_output_loss: 3.0400 - val_loss: 0.8952 - val_output_loss: 0.6619 - val_aux_output_loss: 2.9951\n",
            "Epoch 24/50\n",
            "11610/11610 [==============================] - 1s 74us/sample - loss: 0.8797 - output_loss: 0.6506 - aux_output_loss: 2.9402 - val_loss: 0.8795 - val_output_loss: 0.6554 - val_aux_output_loss: 2.8962\n",
            "Epoch 25/50\n",
            "11610/11610 [==============================] - 1s 73us/sample - loss: 0.8652 - output_loss: 0.6447 - aux_output_loss: 2.8476 - val_loss: 0.8648 - val_output_loss: 0.6495 - val_aux_output_loss: 2.8027\n",
            "Epoch 26/50\n",
            "11610/11610 [==============================] - 1s 74us/sample - loss: 0.8514 - output_loss: 0.6391 - aux_output_loss: 2.7598 - val_loss: 0.8510 - val_output_loss: 0.6440 - val_aux_output_loss: 2.7144\n",
            "Epoch 27/50\n",
            "11610/11610 [==============================] - 1s 74us/sample - loss: 0.8385 - output_loss: 0.6341 - aux_output_loss: 2.6767 - val_loss: 0.8381 - val_output_loss: 0.6389 - val_aux_output_loss: 2.6310\n",
            "Epoch 28/50\n",
            "11610/11610 [==============================] - 1s 76us/sample - loss: 0.8262 - output_loss: 0.6293 - aux_output_loss: 2.5985 - val_loss: 0.8258 - val_output_loss: 0.6339 - val_aux_output_loss: 2.5524\n",
            "Epoch 29/50\n",
            "11610/11610 [==============================] - 1s 76us/sample - loss: 0.8147 - output_loss: 0.6246 - aux_output_loss: 2.5248 - val_loss: 0.8141 - val_output_loss: 0.6292 - val_aux_output_loss: 2.4780\n",
            "Epoch 30/50\n",
            "11610/11610 [==============================] - 1s 70us/sample - loss: 0.8037 - output_loss: 0.6203 - aux_output_loss: 2.4542 - val_loss: 0.8031 - val_output_loss: 0.6248 - val_aux_output_loss: 2.4077\n",
            "Epoch 31/50\n",
            "11610/11610 [==============================] - 1s 74us/sample - loss: 0.7934 - output_loss: 0.6161 - aux_output_loss: 2.3873 - val_loss: 0.7927 - val_output_loss: 0.6206 - val_aux_output_loss: 2.3416\n",
            "Epoch 32/50\n",
            "11610/11610 [==============================] - 1s 75us/sample - loss: 0.7836 - output_loss: 0.6124 - aux_output_loss: 2.3250 - val_loss: 0.7829 - val_output_loss: 0.6166 - val_aux_output_loss: 2.2790\n",
            "Epoch 33/50\n",
            "11610/11610 [==============================] - 1s 71us/sample - loss: 0.7744 - output_loss: 0.6086 - aux_output_loss: 2.2657 - val_loss: 0.7736 - val_output_loss: 0.6129 - val_aux_output_loss: 2.2199\n",
            "Epoch 34/50\n",
            "11610/11610 [==============================] - 1s 68us/sample - loss: 0.7656 - output_loss: 0.6052 - aux_output_loss: 2.2099 - val_loss: 0.7649 - val_output_loss: 0.6094 - val_aux_output_loss: 2.1640\n",
            "Epoch 35/50\n",
            "11610/11610 [==============================] - 1s 68us/sample - loss: 0.7572 - output_loss: 0.6018 - aux_output_loss: 2.1570 - val_loss: 0.7565 - val_output_loss: 0.6059 - val_aux_output_loss: 2.1114\n",
            "Epoch 36/50\n",
            "11610/11610 [==============================] - 1s 67us/sample - loss: 0.7493 - output_loss: 0.5983 - aux_output_loss: 2.1064 - val_loss: 0.7485 - val_output_loss: 0.6026 - val_aux_output_loss: 2.0616\n",
            "Epoch 37/50\n",
            "11610/11610 [==============================] - 1s 67us/sample - loss: 0.7418 - output_loss: 0.5953 - aux_output_loss: 2.0590 - val_loss: 0.7409 - val_output_loss: 0.5994 - val_aux_output_loss: 2.0149\n",
            "Epoch 38/50\n",
            "11610/11610 [==============================] - 1s 70us/sample - loss: 0.7346 - output_loss: 0.5924 - aux_output_loss: 2.0145 - val_loss: 0.7338 - val_output_loss: 0.5964 - val_aux_output_loss: 1.9704\n",
            "Epoch 39/50\n",
            "11610/11610 [==============================] - 1s 78us/sample - loss: 0.7278 - output_loss: 0.5897 - aux_output_loss: 1.9724 - val_loss: 0.7270 - val_output_loss: 0.5935 - val_aux_output_loss: 1.9284\n",
            "Epoch 40/50\n",
            "11610/11610 [==============================] - 1s 78us/sample - loss: 0.7213 - output_loss: 0.5868 - aux_output_loss: 1.9312 - val_loss: 0.7205 - val_output_loss: 0.5907 - val_aux_output_loss: 1.8887\n",
            "Epoch 41/50\n",
            "11610/11610 [==============================] - 1s 71us/sample - loss: 0.7151 - output_loss: 0.5840 - aux_output_loss: 1.8932 - val_loss: 0.7143 - val_output_loss: 0.5879 - val_aux_output_loss: 1.8513\n",
            "Epoch 42/50\n",
            "11610/11610 [==============================] - 1s 74us/sample - loss: 0.7092 - output_loss: 0.5820 - aux_output_loss: 1.8572 - val_loss: 0.7084 - val_output_loss: 0.5853 - val_aux_output_loss: 1.8160\n",
            "Epoch 43/50\n",
            "11610/11610 [==============================] - 1s 72us/sample - loss: 0.7036 - output_loss: 0.5792 - aux_output_loss: 1.8225 - val_loss: 0.7029 - val_output_loss: 0.5829 - val_aux_output_loss: 1.7825\n",
            "Epoch 44/50\n",
            "11610/11610 [==============================] - 1s 77us/sample - loss: 0.6982 - output_loss: 0.5767 - aux_output_loss: 1.7897 - val_loss: 0.6976 - val_output_loss: 0.5806 - val_aux_output_loss: 1.7508\n",
            "Epoch 45/50\n",
            "11610/11610 [==============================] - 1s 70us/sample - loss: 0.6930 - output_loss: 0.5744 - aux_output_loss: 1.7584 - val_loss: 0.6925 - val_output_loss: 0.5782 - val_aux_output_loss: 1.7210\n",
            "Epoch 46/50\n",
            "11610/11610 [==============================] - 1s 73us/sample - loss: 0.6881 - output_loss: 0.5724 - aux_output_loss: 1.7292 - val_loss: 0.6877 - val_output_loss: 0.5760 - val_aux_output_loss: 1.6927\n",
            "Epoch 47/50\n",
            "11610/11610 [==============================] - 1s 73us/sample - loss: 0.6834 - output_loss: 0.5703 - aux_output_loss: 1.7015 - val_loss: 0.6831 - val_output_loss: 0.5738 - val_aux_output_loss: 1.6660\n",
            "Epoch 48/50\n",
            "11610/11610 [==============================] - 1s 69us/sample - loss: 0.6789 - output_loss: 0.5680 - aux_output_loss: 1.6752 - val_loss: 0.6787 - val_output_loss: 0.5718 - val_aux_output_loss: 1.6407\n",
            "Epoch 49/50\n",
            "11610/11610 [==============================] - 1s 68us/sample - loss: 0.6746 - output_loss: 0.5663 - aux_output_loss: 1.6504 - val_loss: 0.6745 - val_output_loss: 0.5698 - val_aux_output_loss: 1.6165\n",
            "Epoch 50/50\n",
            "11610/11610 [==============================] - 1s 70us/sample - loss: 0.6705 - output_loss: 0.5643 - aux_output_loss: 1.6262 - val_loss: 0.6704 - val_output_loss: 0.5678 - val_aux_output_loss: 1.5939\n"
          ],
          "name": "stdout"
        }
      ]
    },
    {
      "cell_type": "markdown",
      "metadata": {
        "id": "hUcuML3J9JuW",
        "colab_type": "text"
      },
      "source": [
        "### Model Evaluate"
      ]
    },
    {
      "cell_type": "code",
      "metadata": {
        "id": "qCbML8AM8wG1",
        "colab_type": "code",
        "colab": {
          "base_uri": "https://localhost:8080/",
          "height": 51
        },
        "outputId": "e8ec3fdf-de02-42c2-d9d1-455faf69cdb5"
      },
      "source": [
        "model.evaluate({\"wide_input\":X_test_A,\"Deep_input\":X_test_B},{\"output\":y_test,\"aux_output\":y_test})"
      ],
      "execution_count": 99,
      "outputs": [
        {
          "output_type": "stream",
          "text": [
            "5160/5160 [==============================] - 0s 42us/sample - loss: 0.7319 - output_loss: 0.5757 - aux_output_loss: 2.1458\n"
          ],
          "name": "stdout"
        },
        {
          "output_type": "execute_result",
          "data": {
            "text/plain": [
              "[0.7319268603657567, 0.5757162, 2.1458437]"
            ]
          },
          "metadata": {
            "tags": []
          },
          "execution_count": 99
        }
      ]
    },
    {
      "cell_type": "code",
      "metadata": {
        "id": "xjWX9Cst9ZY2",
        "colab_type": "code",
        "colab": {}
      },
      "source": [
        ""
      ],
      "execution_count": 0,
      "outputs": []
    }
  ]
}
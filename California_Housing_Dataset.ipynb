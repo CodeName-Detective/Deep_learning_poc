{
  "nbformat": 4,
  "nbformat_minor": 0,
  "metadata": {
    "colab": {
      "name": "California Housing Dataset.ipynb",
      "provenance": [],
      "collapsed_sections": []
    },
    "kernelspec": {
      "name": "python3",
      "display_name": "Python 3"
    }
  },
  "cells": [
    {
      "cell_type": "code",
      "metadata": {
        "id": "schghC44Waw7",
        "colab_type": "code",
        "colab": {}
      },
      "source": [
        "%tensorflow_version 2.x"
      ],
      "execution_count": 0,
      "outputs": []
    },
    {
      "cell_type": "code",
      "metadata": {
        "id": "87fAwXqoXCEi",
        "colab_type": "code",
        "colab": {}
      },
      "source": [
        "import tensorflow as tf\n",
        "import tensorflow.keras as keras"
      ],
      "execution_count": 0,
      "outputs": []
    },
    {
      "cell_type": "code",
      "metadata": {
        "id": "GDRBzXGAYyWm",
        "colab_type": "code",
        "colab": {}
      },
      "source": [
        "from sklearn.datasets import fetch_california_housing\n",
        "from sklearn.model_selection import train_test_split\n",
        "from sklearn.preprocessing import StandardScaler"
      ],
      "execution_count": 0,
      "outputs": []
    },
    {
      "cell_type": "code",
      "metadata": {
        "id": "re5lESWWZF6J",
        "colab_type": "code",
        "colab": {}
      },
      "source": [
        "housing = fetch_california_housing()"
      ],
      "execution_count": 0,
      "outputs": []
    },
    {
      "cell_type": "code",
      "metadata": {
        "id": "aKFfw3ItZM11",
        "colab_type": "code",
        "colab": {}
      },
      "source": [
        "X_train_full,X_test,y_train_full,y_test = train_test_split(housing.data,housing.target)"
      ],
      "execution_count": 0,
      "outputs": []
    },
    {
      "cell_type": "code",
      "metadata": {
        "id": "QGEE2R3uZaqC",
        "colab_type": "code",
        "colab": {}
      },
      "source": [
        "X_train,X_valid,y_train,y_valid = train_test_split(X_train_full,y_train_full)"
      ],
      "execution_count": 0,
      "outputs": []
    },
    {
      "cell_type": "code",
      "metadata": {
        "id": "2dtzQ3jCZkwm",
        "colab_type": "code",
        "colab": {}
      },
      "source": [
        "scaler =StandardScaler()\n",
        "X_train = scaler.fit_transform(X_train)\n",
        "X_test = scaler.transform(X_test)\n",
        "X_valid = scaler.transform(X_valid)"
      ],
      "execution_count": 0,
      "outputs": []
    },
    {
      "cell_type": "markdown",
      "metadata": {
        "id": "YD_jd7xxZ85f",
        "colab_type": "text"
      },
      "source": [
        "#### Model Building"
      ]
    },
    {
      "cell_type": "code",
      "metadata": {
        "id": "fHBFLbvIZ5Wi",
        "colab_type": "code",
        "colab": {}
      },
      "source": [
        "model = keras.models.Sequential(\n",
        "    [\n",
        "     keras.layers.Dense(30,activation=\"relu\",input_shape=X_train.shape[1:]),\n",
        "     keras.layers.Dense(20,activation=\"relu\"),\n",
        "     keras.layers.Dense(10,activation=\"relu\"),\n",
        "     keras.layers.Dense(1)\n",
        "    ]\n",
        ")"
      ],
      "execution_count": 0,
      "outputs": []
    },
    {
      "cell_type": "markdown",
      "metadata": {
        "id": "xkseAaz5ahhM",
        "colab_type": "text"
      },
      "source": [
        "#### Model Compile"
      ]
    },
    {
      "cell_type": "code",
      "metadata": {
        "id": "F4A_Gwrgaccq",
        "colab_type": "code",
        "colab": {}
      },
      "source": [
        "model.compile(\n",
        "    loss=\"mean_squared_error\",\n",
        "    optimizer = \"sgd\"\n",
        ")"
      ],
      "execution_count": 0,
      "outputs": []
    },
    {
      "cell_type": "markdown",
      "metadata": {
        "id": "0XT5f6KtaxF_",
        "colab_type": "text"
      },
      "source": [
        "#### Model Train"
      ]
    },
    {
      "cell_type": "code",
      "metadata": {
        "id": "D774XZ_VawOD",
        "colab_type": "code",
        "colab": {
          "base_uri": "https://localhost:8080/",
          "height": 1000
        },
        "outputId": "a87df6d9-18cd-4877-9cc8-f5a7c391d572"
      },
      "source": [
        "history = model.fit(X_train,y_train,epochs=40,validation_data=(X_valid,y_valid))"
      ],
      "execution_count": 31,
      "outputs": [
        {
          "output_type": "stream",
          "text": [
            "Train on 11610 samples, validate on 3870 samples\n",
            "Epoch 1/40\n",
            "11610/11610 [==============================] - 1s 68us/sample - loss: 0.9164 - val_loss: 1.7113\n",
            "Epoch 2/40\n",
            "11610/11610 [==============================] - 1s 49us/sample - loss: 0.6300 - val_loss: 0.4526\n",
            "Epoch 3/40\n",
            "11610/11610 [==============================] - 1s 48us/sample - loss: 0.4580 - val_loss: 0.4211\n",
            "Epoch 4/40\n",
            "11610/11610 [==============================] - 1s 49us/sample - loss: 0.4392 - val_loss: 0.4168\n",
            "Epoch 5/40\n",
            "11610/11610 [==============================] - 1s 50us/sample - loss: 0.4207 - val_loss: 0.3941\n",
            "Epoch 6/40\n",
            "11610/11610 [==============================] - 1s 48us/sample - loss: 0.4049 - val_loss: 0.3858\n",
            "Epoch 7/40\n",
            "11610/11610 [==============================] - 1s 50us/sample - loss: 0.3931 - val_loss: 0.3923\n",
            "Epoch 8/40\n",
            "11610/11610 [==============================] - 1s 48us/sample - loss: 0.3934 - val_loss: 0.3754\n",
            "Epoch 9/40\n",
            "11610/11610 [==============================] - 1s 48us/sample - loss: 0.3794 - val_loss: 0.3627\n",
            "Epoch 10/40\n",
            "11610/11610 [==============================] - 1s 49us/sample - loss: 0.3725 - val_loss: 0.3584\n",
            "Epoch 11/40\n",
            "11610/11610 [==============================] - 1s 49us/sample - loss: 0.3641 - val_loss: 0.3563\n",
            "Epoch 12/40\n",
            "11610/11610 [==============================] - 1s 49us/sample - loss: 0.3596 - val_loss: 0.3625\n",
            "Epoch 13/40\n",
            "11610/11610 [==============================] - 1s 49us/sample - loss: 0.3524 - val_loss: 0.3397\n",
            "Epoch 14/40\n",
            "11610/11610 [==============================] - 1s 48us/sample - loss: 0.3497 - val_loss: 0.3403\n",
            "Epoch 15/40\n",
            "11610/11610 [==============================] - 1s 50us/sample - loss: 0.3433 - val_loss: 0.3405\n",
            "Epoch 16/40\n",
            "11610/11610 [==============================] - 1s 49us/sample - loss: 0.3397 - val_loss: 0.3363\n",
            "Epoch 17/40\n",
            "11610/11610 [==============================] - 1s 48us/sample - loss: 0.3359 - val_loss: 0.3303\n",
            "Epoch 18/40\n",
            "11610/11610 [==============================] - 1s 48us/sample - loss: 0.3338 - val_loss: 0.3263\n",
            "Epoch 19/40\n",
            "11610/11610 [==============================] - 1s 47us/sample - loss: 0.3301 - val_loss: 0.3216\n",
            "Epoch 20/40\n",
            "11610/11610 [==============================] - 1s 49us/sample - loss: 0.3305 - val_loss: 0.3215\n",
            "Epoch 21/40\n",
            "11610/11610 [==============================] - 1s 49us/sample - loss: 0.3260 - val_loss: 0.3164\n",
            "Epoch 22/40\n",
            "11610/11610 [==============================] - 1s 49us/sample - loss: 0.3261 - val_loss: 0.3320\n",
            "Epoch 23/40\n",
            "11610/11610 [==============================] - 1s 48us/sample - loss: 0.3202 - val_loss: 0.3146\n",
            "Epoch 24/40\n",
            "11610/11610 [==============================] - 1s 49us/sample - loss: 0.3217 - val_loss: 0.3233\n",
            "Epoch 25/40\n",
            "11610/11610 [==============================] - 1s 48us/sample - loss: 0.3190 - val_loss: 0.3184\n",
            "Epoch 26/40\n",
            "11610/11610 [==============================] - 1s 50us/sample - loss: 0.3192 - val_loss: 0.3083\n",
            "Epoch 27/40\n",
            "11610/11610 [==============================] - 1s 47us/sample - loss: 0.3162 - val_loss: 0.3165\n",
            "Epoch 28/40\n",
            "11610/11610 [==============================] - 1s 48us/sample - loss: 0.3152 - val_loss: 0.3078\n",
            "Epoch 29/40\n",
            "11610/11610 [==============================] - 1s 49us/sample - loss: 0.3124 - val_loss: 0.3272\n",
            "Epoch 30/40\n",
            "11610/11610 [==============================] - 1s 48us/sample - loss: 0.3118 - val_loss: 0.3315\n",
            "Epoch 31/40\n",
            "11610/11610 [==============================] - 1s 48us/sample - loss: 0.3116 - val_loss: 0.3176\n",
            "Epoch 32/40\n",
            "11610/11610 [==============================] - 1s 49us/sample - loss: 0.3093 - val_loss: 0.3025\n",
            "Epoch 33/40\n",
            "11610/11610 [==============================] - 1s 48us/sample - loss: 0.3083 - val_loss: 0.3009\n",
            "Epoch 34/40\n",
            "11610/11610 [==============================] - 1s 47us/sample - loss: 0.3095 - val_loss: 0.3043\n",
            "Epoch 35/40\n",
            "11610/11610 [==============================] - 1s 52us/sample - loss: 0.3075 - val_loss: 0.3028\n",
            "Epoch 36/40\n",
            "11610/11610 [==============================] - 1s 50us/sample - loss: 0.3044 - val_loss: 0.3043\n",
            "Epoch 37/40\n",
            "11610/11610 [==============================] - 1s 50us/sample - loss: 0.3047 - val_loss: 0.3029\n",
            "Epoch 38/40\n",
            "11610/11610 [==============================] - 1s 51us/sample - loss: 0.3042 - val_loss: 0.3253\n",
            "Epoch 39/40\n",
            "11610/11610 [==============================] - 1s 50us/sample - loss: 0.3030 - val_loss: 0.3086\n",
            "Epoch 40/40\n",
            "11610/11610 [==============================] - 1s 50us/sample - loss: 0.3020 - val_loss: 0.3193\n"
          ],
          "name": "stdout"
        }
      ]
    },
    {
      "cell_type": "markdown",
      "metadata": {
        "id": "-bIEdDXQbwGZ",
        "colab_type": "text"
      },
      "source": [
        "#### Evaluation"
      ]
    },
    {
      "cell_type": "code",
      "metadata": {
        "id": "DXXk9GQqbD0r",
        "colab_type": "code",
        "colab": {
          "base_uri": "https://localhost:8080/",
          "height": 51
        },
        "outputId": "ed3c393e-9670-4619-dbad-de691efbd96e"
      },
      "source": [
        "model.evaluate(X_test,y_test)"
      ],
      "execution_count": 32,
      "outputs": [
        {
          "output_type": "stream",
          "text": [
            "5160/5160 [==============================] - 0s 28us/sample - loss: 0.3111\n"
          ],
          "name": "stdout"
        },
        {
          "output_type": "execute_result",
          "data": {
            "text/plain": [
              "0.3110993387625199"
            ]
          },
          "metadata": {
            "tags": []
          },
          "execution_count": 32
        }
      ]
    },
    {
      "cell_type": "markdown",
      "metadata": {
        "id": "CKwWnaBOb72D",
        "colab_type": "text"
      },
      "source": [
        "#### Predictions"
      ]
    },
    {
      "cell_type": "code",
      "metadata": {
        "id": "p66fVAuib0A9",
        "colab_type": "code",
        "colab": {
          "base_uri": "https://localhost:8080/",
          "height": 68
        },
        "outputId": "8c6e93b1-6a8f-4bcf-b1f4-dd4a628bd20d"
      },
      "source": [
        "X_new = X_test[:3]\n",
        "y_pred = model.predict(X_new)\n",
        "y_pred"
      ],
      "execution_count": 33,
      "outputs": [
        {
          "output_type": "execute_result",
          "data": {
            "text/plain": [
              "array([[3.2052314],\n",
              "       [1.7648816],\n",
              "       [2.4672801]], dtype=float32)"
            ]
          },
          "metadata": {
            "tags": []
          },
          "execution_count": 33
        }
      ]
    },
    {
      "cell_type": "code",
      "metadata": {
        "id": "LgR9UEyicLFV",
        "colab_type": "code",
        "colab": {
          "base_uri": "https://localhost:8080/",
          "height": 34
        },
        "outputId": "1c660bba-9eab-4b50-d845-1243ffcc6831"
      },
      "source": [
        "y_test[:3]"
      ],
      "execution_count": 34,
      "outputs": [
        {
          "output_type": "execute_result",
          "data": {
            "text/plain": [
              "array([2.825, 2.379, 2.183])"
            ]
          },
          "metadata": {
            "tags": []
          },
          "execution_count": 34
        }
      ]
    },
    {
      "cell_type": "code",
      "metadata": {
        "id": "nhu5LHiGcNKL",
        "colab_type": "code",
        "colab": {}
      },
      "source": [
        ""
      ],
      "execution_count": 0,
      "outputs": []
    }
  ]
}
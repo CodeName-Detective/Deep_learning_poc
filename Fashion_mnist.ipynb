{
  "nbformat": 4,
  "nbformat_minor": 0,
  "metadata": {
    "colab": {
      "name": "Fashion_mnist.ipynb",
      "provenance": [],
      "collapsed_sections": []
    },
    "kernelspec": {
      "name": "python3",
      "display_name": "Python 3"
    }
  },
  "cells": [
    {
      "cell_type": "code",
      "metadata": {
        "id": "yTsuwPS88chB",
        "colab_type": "code",
        "colab": {}
      },
      "source": [
        "%tensorflow_version 2.x"
      ],
      "execution_count": 0,
      "outputs": []
    },
    {
      "cell_type": "code",
      "metadata": {
        "id": "LyGift9q8i60",
        "colab_type": "code",
        "colab": {}
      },
      "source": [
        "import tensorflow as tf\n",
        "from tensorflow import keras"
      ],
      "execution_count": 0,
      "outputs": []
    },
    {
      "cell_type": "code",
      "metadata": {
        "id": "bTtjXiaw8prP",
        "colab_type": "code",
        "outputId": "7586c3b9-fb09-4555-c401-77410cbb81dc",
        "colab": {
          "base_uri": "https://localhost:8080/",
          "height": 34
        }
      },
      "source": [
        "tf.__version__"
      ],
      "execution_count": 200,
      "outputs": [
        {
          "output_type": "execute_result",
          "data": {
            "text/plain": [
              "'2.1.0'"
            ]
          },
          "metadata": {
            "tags": []
          },
          "execution_count": 200
        }
      ]
    },
    {
      "cell_type": "code",
      "metadata": {
        "id": "cHJISobr8sCj",
        "colab_type": "code",
        "outputId": "e3a0b06e-ae16-41ae-ab1b-b1a77d2b247b",
        "colab": {
          "base_uri": "https://localhost:8080/",
          "height": 34
        }
      },
      "source": [
        "keras.__version__"
      ],
      "execution_count": 201,
      "outputs": [
        {
          "output_type": "execute_result",
          "data": {
            "text/plain": [
              "'2.2.4-tf'"
            ]
          },
          "metadata": {
            "tags": []
          },
          "execution_count": 201
        }
      ]
    },
    {
      "cell_type": "markdown",
      "metadata": {
        "id": "Hp-4dA4T9FVv",
        "colab_type": "text"
      },
      "source": [
        "#### Keras to load the Dataset"
      ]
    },
    {
      "cell_type": "code",
      "metadata": {
        "id": "ptjOBx2s8ujH",
        "colab_type": "code",
        "colab": {}
      },
      "source": [
        "fashion_mnist = keras.datasets.fashion_mnist"
      ],
      "execution_count": 0,
      "outputs": []
    },
    {
      "cell_type": "code",
      "metadata": {
        "id": "JZA40Ng89ebG",
        "colab_type": "code",
        "colab": {}
      },
      "source": [
        "(X_train_full,y_train_full), (X_test,y_test) = fashion_mnist.load_data()"
      ],
      "execution_count": 0,
      "outputs": []
    },
    {
      "cell_type": "code",
      "metadata": {
        "id": "mknChqbrCVMd",
        "colab_type": "code",
        "outputId": "55cf85c9-0a40-49f6-d405-a07ac66ef313",
        "colab": {
          "base_uri": "https://localhost:8080/",
          "height": 34
        }
      },
      "source": [
        "X_train_full.shape"
      ],
      "execution_count": 204,
      "outputs": [
        {
          "output_type": "execute_result",
          "data": {
            "text/plain": [
              "(60000, 28, 28)"
            ]
          },
          "metadata": {
            "tags": []
          },
          "execution_count": 204
        }
      ]
    },
    {
      "cell_type": "code",
      "metadata": {
        "id": "UcRJU13rCgad",
        "colab_type": "code",
        "outputId": "deff6abb-e814-4693-d5cf-3a97961ef0e2",
        "colab": {
          "base_uri": "https://localhost:8080/",
          "height": 34
        }
      },
      "source": [
        "X_train_full.dtype"
      ],
      "execution_count": 205,
      "outputs": [
        {
          "output_type": "execute_result",
          "data": {
            "text/plain": [
              "dtype('uint8')"
            ]
          },
          "metadata": {
            "tags": []
          },
          "execution_count": 205
        }
      ]
    },
    {
      "cell_type": "markdown",
      "metadata": {
        "id": "kv7YQ8nBDtGf",
        "colab_type": "text"
      },
      "source": [
        "#### Pre Processing"
      ]
    },
    {
      "cell_type": "code",
      "metadata": {
        "id": "IPqikIRUCifk",
        "colab_type": "code",
        "colab": {}
      },
      "source": [
        "X_valid, X_train = X_train_full[:5000]/255.0, X_train_full[5000:]/255.0\n",
        "y_valid, y_train = y_train_full[:5000], y_train_full[5000:]"
      ],
      "execution_count": 0,
      "outputs": []
    },
    {
      "cell_type": "code",
      "metadata": {
        "id": "hEtN8OccDElC",
        "colab_type": "code",
        "outputId": "40059c3b-e929-4502-8613-5156ac6c3510",
        "colab": {
          "base_uri": "https://localhost:8080/",
          "height": 34
        }
      },
      "source": [
        "y_train"
      ],
      "execution_count": 207,
      "outputs": [
        {
          "output_type": "execute_result",
          "data": {
            "text/plain": [
              "array([4, 0, 7, ..., 3, 0, 5], dtype=uint8)"
            ]
          },
          "metadata": {
            "tags": []
          },
          "execution_count": 207
        }
      ]
    },
    {
      "cell_type": "code",
      "metadata": {
        "id": "NwQLgWraDHZO",
        "colab_type": "code",
        "colab": {}
      },
      "source": [
        "class_names = [\"T-shirt/top\",\"Trouser\",\"Pullover\",\"Dress\",\"Coat\",\"Sandal\",\"Shirt\",\"Sneaker\",\"Bag\",\"Ankle boot\"]"
      ],
      "execution_count": 0,
      "outputs": []
    },
    {
      "cell_type": "code",
      "metadata": {
        "id": "_kStcySMDgNP",
        "colab_type": "code",
        "outputId": "3fa90326-7c07-4a04-a2fc-d836a0670b67",
        "colab": {
          "base_uri": "https://localhost:8080/",
          "height": 34
        }
      },
      "source": [
        "class_names[y_train[0]]"
      ],
      "execution_count": 209,
      "outputs": [
        {
          "output_type": "execute_result",
          "data": {
            "text/plain": [
              "'Coat'"
            ]
          },
          "metadata": {
            "tags": []
          },
          "execution_count": 209
        }
      ]
    },
    {
      "cell_type": "markdown",
      "metadata": {
        "id": "9WgcUjFyDzMj",
        "colab_type": "text"
      },
      "source": [
        "#### Model Building"
      ]
    },
    {
      "cell_type": "code",
      "metadata": {
        "id": "sL67fxFGDoEi",
        "colab_type": "code",
        "colab": {}
      },
      "source": [
        "model = keras.models.Sequential()\n",
        "model.add(keras.layers.Flatten(input_shape=[28,28]))\n",
        "model.add(keras.layers.BatchNormalization())\n",
        "model.add(keras.layers.Dense(300,activation=\"relu\",kernel_initializer=\"he_normal\"))\n",
        "model.add(keras.layers.BatchNormalization())\n",
        "model.add(keras.layers.Dense(100,activation=\"relu\",kernel_initializer=\"he_normal\"))\n",
        "model.add(keras.layers.BatchNormalization())\n",
        "model.add(keras.layers.Dense(10,activation=\"softmax\"))"
      ],
      "execution_count": 0,
      "outputs": []
    },
    {
      "cell_type": "code",
      "metadata": {
        "id": "A16x295vGAGy",
        "colab_type": "code",
        "outputId": "4451cf4a-8c2e-47da-e32a-ba65ce7fa4d7",
        "colab": {
          "base_uri": "https://localhost:8080/",
          "height": 391
        }
      },
      "source": [
        "model.summary()"
      ],
      "execution_count": 211,
      "outputs": [
        {
          "output_type": "stream",
          "text": [
            "Model: \"sequential_13\"\n",
            "_________________________________________________________________\n",
            "Layer (type)                 Output Shape              Param #   \n",
            "=================================================================\n",
            "flatten_13 (Flatten)         (None, 784)               0         \n",
            "_________________________________________________________________\n",
            "batch_normalization_24 (Batc (None, 784)               3136      \n",
            "_________________________________________________________________\n",
            "dense_39 (Dense)             (None, 300)               235500    \n",
            "_________________________________________________________________\n",
            "batch_normalization_25 (Batc (None, 300)               1200      \n",
            "_________________________________________________________________\n",
            "dense_40 (Dense)             (None, 100)               30100     \n",
            "_________________________________________________________________\n",
            "batch_normalization_26 (Batc (None, 100)               400       \n",
            "_________________________________________________________________\n",
            "dense_41 (Dense)             (None, 10)                1010      \n",
            "=================================================================\n",
            "Total params: 271,346\n",
            "Trainable params: 268,978\n",
            "Non-trainable params: 2,368\n",
            "_________________________________________________________________\n"
          ],
          "name": "stdout"
        }
      ]
    },
    {
      "cell_type": "code",
      "metadata": {
        "id": "VDsYIuKFkK1J",
        "colab_type": "code",
        "outputId": "602270a5-0024-43d0-8074-bcbe770bcc74",
        "colab": {
          "base_uri": "https://localhost:8080/",
          "height": 85
        }
      },
      "source": [
        "[(var.name,var.trainable) for var in model.layers[1].variables]"
      ],
      "execution_count": 212,
      "outputs": [
        {
          "output_type": "execute_result",
          "data": {
            "text/plain": [
              "[('batch_normalization_24/gamma:0', True),\n",
              " ('batch_normalization_24/beta:0', True),\n",
              " ('batch_normalization_24/moving_mean:0', False),\n",
              " ('batch_normalization_24/moving_variance:0', False)]"
            ]
          },
          "metadata": {
            "tags": []
          },
          "execution_count": 212
        }
      ]
    },
    {
      "cell_type": "code",
      "metadata": {
        "id": "Q756u_2tkfqA",
        "colab_type": "code",
        "outputId": "450367cd-2885-4570-cf6c-f01877b1c3f6",
        "colab": {
          "base_uri": "https://localhost:8080/",
          "height": 51
        }
      },
      "source": [
        "model.layers[1].updates"
      ],
      "execution_count": 213,
      "outputs": [
        {
          "output_type": "execute_result",
          "data": {
            "text/plain": [
              "[<tf.Operation 'cond_8/Identity' type=Identity>,\n",
              " <tf.Operation 'cond_9/Identity' type=Identity>]"
            ]
          },
          "metadata": {
            "tags": []
          },
          "execution_count": 213
        }
      ]
    },
    {
      "cell_type": "code",
      "metadata": {
        "id": "Rf5Cna-xEgRu",
        "colab_type": "code",
        "colab": {}
      },
      "source": [
        "model2 = keras.models.Sequential(\n",
        "    [\n",
        "     keras.layers.Flatten(input_shape=[28,28]),\n",
        "     keras.layers.BatchNormalization(),\n",
        "     keras.layers.Dense(300,use_bias=False),\n",
        "     keras.layers.BatchNormalization(),\n",
        "     keras.layers.Activation(\"relu\"),\n",
        "     keras.layers.Dense(100,use_bias=False),\n",
        "     keras.layers.BatchNormalization(),\n",
        "     keras.layers.Activation(\"relu\"),\n",
        "     keras.layers.Dense(10,activation=\"softmax\")\n",
        "    ]\n",
        ")"
      ],
      "execution_count": 0,
      "outputs": []
    },
    {
      "cell_type": "code",
      "metadata": {
        "id": "RRbjJgDLFqZl",
        "colab_type": "code",
        "outputId": "15831213-a308-44b9-fafc-4ba13bb7224a",
        "colab": {
          "base_uri": "https://localhost:8080/",
          "height": 459
        }
      },
      "source": [
        "model2.summary()"
      ],
      "execution_count": 215,
      "outputs": [
        {
          "output_type": "stream",
          "text": [
            "Model: \"sequential_14\"\n",
            "_________________________________________________________________\n",
            "Layer (type)                 Output Shape              Param #   \n",
            "=================================================================\n",
            "flatten_14 (Flatten)         (None, 784)               0         \n",
            "_________________________________________________________________\n",
            "batch_normalization_27 (Batc (None, 784)               3136      \n",
            "_________________________________________________________________\n",
            "dense_42 (Dense)             (None, 300)               235200    \n",
            "_________________________________________________________________\n",
            "batch_normalization_28 (Batc (None, 300)               1200      \n",
            "_________________________________________________________________\n",
            "activation_8 (Activation)    (None, 300)               0         \n",
            "_________________________________________________________________\n",
            "dense_43 (Dense)             (None, 100)               30000     \n",
            "_________________________________________________________________\n",
            "batch_normalization_29 (Batc (None, 100)               400       \n",
            "_________________________________________________________________\n",
            "activation_9 (Activation)    (None, 100)               0         \n",
            "_________________________________________________________________\n",
            "dense_44 (Dense)             (None, 10)                1010      \n",
            "=================================================================\n",
            "Total params: 270,946\n",
            "Trainable params: 268,578\n",
            "Non-trainable params: 2,368\n",
            "_________________________________________________________________\n"
          ],
          "name": "stdout"
        }
      ]
    },
    {
      "cell_type": "code",
      "metadata": {
        "id": "m_AdY8BsGFPm",
        "colab_type": "code",
        "outputId": "5a96947f-1b47-405a-fa94-eb356024e767",
        "colab": {
          "base_uri": "https://localhost:8080/",
          "height": 1000
        }
      },
      "source": [
        "keras.utils.plot_model(model2,show_shapes=True) #Plotting the model"
      ],
      "execution_count": 216,
      "outputs": [
        {
          "output_type": "execute_result",
          "data": {
            "image/png": "[encoded data removed]",
            "text/plain": [
              "<IPython.core.display.Image object>"
            ]
          },
          "metadata": {
            "tags": []
          },
          "execution_count": 216
        }
      ]
    },
    {
      "cell_type": "code",
      "metadata": {
        "id": "Mjg26eHgGtdn",
        "colab_type": "code",
        "outputId": "d18898d0-cacc-4fe3-81d3-9c0bba5389c9",
        "colab": {
          "base_uri": "https://localhost:8080/",
          "height": 136
        }
      },
      "source": [
        "model.layers"
      ],
      "execution_count": 217,
      "outputs": [
        {
          "output_type": "execute_result",
          "data": {
            "text/plain": [
              "[<tensorflow.python.keras.layers.core.Flatten at 0x7f7948279828>,\n",
              " <tensorflow.python.keras.layers.normalization_v2.BatchNormalization at 0x7f7948279940>,\n",
              " <tensorflow.python.keras.layers.core.Dense at 0x7f7948279c50>,\n",
              " <tensorflow.python.keras.layers.normalization_v2.BatchNormalization at 0x7f7949a43518>,\n",
              " <tensorflow.python.keras.layers.core.Dense at 0x7f794aece278>,\n",
              " <tensorflow.python.keras.layers.normalization_v2.BatchNormalization at 0x7f7949a434e0>,\n",
              " <tensorflow.python.keras.layers.core.Dense at 0x7f794aeced30>]"
            ]
          },
          "metadata": {
            "tags": []
          },
          "execution_count": 217
        }
      ]
    },
    {
      "cell_type": "code",
      "metadata": {
        "id": "lxE1D9MhHIOl",
        "colab_type": "code",
        "colab": {}
      },
      "source": [
        "hidden_1 = model.layers[1]"
      ],
      "execution_count": 0,
      "outputs": []
    },
    {
      "cell_type": "code",
      "metadata": {
        "id": "EGyVhCc6HNuC",
        "colab_type": "code",
        "outputId": "b3c44cc7-cefb-4684-f484-85232eacd57e",
        "colab": {
          "base_uri": "https://localhost:8080/",
          "height": 34
        }
      },
      "source": [
        "hidden_1.name"
      ],
      "execution_count": 219,
      "outputs": [
        {
          "output_type": "execute_result",
          "data": {
            "text/plain": [
              "'batch_normalization_24'"
            ]
          },
          "metadata": {
            "tags": []
          },
          "execution_count": 219
        }
      ]
    },
    {
      "cell_type": "code",
      "metadata": {
        "id": "xR6tX3dMHPQb",
        "colab_type": "code",
        "colab": {}
      },
      "source": [
        "#model.get_layer('dense') is hidden_1"
      ],
      "execution_count": 0,
      "outputs": []
    },
    {
      "cell_type": "code",
      "metadata": {
        "id": "t_1Ex_RKHZH5",
        "colab_type": "code",
        "colab": {}
      },
      "source": [
        "#weights,biases = hidden_1.get_weights()"
      ],
      "execution_count": 0,
      "outputs": []
    },
    {
      "cell_type": "code",
      "metadata": {
        "id": "OBY305L-JP1f",
        "colab_type": "code",
        "colab": {}
      },
      "source": [
        "#weights"
      ],
      "execution_count": 0,
      "outputs": []
    },
    {
      "cell_type": "code",
      "metadata": {
        "id": "L3ctwdGDJVYG",
        "colab_type": "code",
        "colab": {}
      },
      "source": [
        "#weights.shape"
      ],
      "execution_count": 0,
      "outputs": []
    },
    {
      "cell_type": "code",
      "metadata": {
        "id": "o1I_xxaTJRGm",
        "colab_type": "code",
        "colab": {}
      },
      "source": [
        "#biases"
      ],
      "execution_count": 0,
      "outputs": []
    },
    {
      "cell_type": "code",
      "metadata": {
        "id": "W2pk73q4JSP5",
        "colab_type": "code",
        "colab": {}
      },
      "source": [
        "#biases.shape"
      ],
      "execution_count": 0,
      "outputs": []
    },
    {
      "cell_type": "code",
      "metadata": {
        "id": "792f7dMslT2G",
        "colab_type": "code",
        "colab": {}
      },
      "source": [
        "model = keras.models.Sequential()\n",
        "model.add(keras.layers.Flatten(input_shape=[28,28]))\n",
        "model.add(keras.layers.Dropout(rate=0.2))\n",
        "model.add(keras.layers.Dense(300,activation=\"relu\",kernel_initializer=\"he_normal\"))\n",
        "model.add(keras.layers.Dropout(rate=0.2))\n",
        "model.add(keras.layers.Dense(100,activation=\"relu\",kernel_initializer=\"he_normal\"))\n",
        "model.add(keras.layers.Dropout(rate=0.2))\n",
        "model.add(keras.layers.Dense(10,activation=\"softmax\"))"
      ],
      "execution_count": 0,
      "outputs": []
    },
    {
      "cell_type": "markdown",
      "metadata": {
        "id": "WeBAAp0JJz-1",
        "colab_type": "text"
      },
      "source": [
        "#### Compiling the model"
      ]
    },
    {
      "cell_type": "code",
      "metadata": {
        "id": "Fl1QQi09JZJZ",
        "colab_type": "code",
        "colab": {}
      },
      "source": [
        "model.compile(\n",
        "    loss=\"sparse_categorical_crossentropy\",\n",
        "    optimizer=keras.optimizers.SGD(clipvalue=1.0),\n",
        "    metrics=[\"accuracy\"]\n",
        ")"
      ],
      "execution_count": 0,
      "outputs": []
    },
    {
      "cell_type": "markdown",
      "metadata": {
        "id": "wPd7Rm4gLHql",
        "colab_type": "text"
      },
      "source": [
        "#### Training the Model"
      ]
    },
    {
      "cell_type": "code",
      "metadata": {
        "id": "gj6lBugmLGJH",
        "colab_type": "code",
        "outputId": "953420eb-08d4-495e-a71e-149552d3d1f8",
        "colab": {
          "base_uri": "https://localhost:8080/",
          "height": 1000
        }
      },
      "source": [
        "history = model.fit(X_train,y_train, epochs=30)"
      ],
      "execution_count": 228,
      "outputs": [
        {
          "output_type": "stream",
          "text": [
            "Train on 55000 samples\n",
            "Epoch 1/30\n",
            "55000/55000 [==============================] - 7s 126us/sample - loss: 0.9242 - accuracy: 0.6703\n",
            "Epoch 2/30\n",
            "55000/55000 [==============================] - 6s 118us/sample - loss: 0.6436 - accuracy: 0.7687\n",
            "Epoch 3/30\n",
            "55000/55000 [==============================] - 7s 119us/sample - loss: 0.5813 - accuracy: 0.7920\n",
            "Epoch 4/30\n",
            "55000/55000 [==============================] - 7s 121us/sample - loss: 0.5403 - accuracy: 0.8040\n",
            "Epoch 5/30\n",
            "55000/55000 [==============================] - 7s 121us/sample - loss: 0.5142 - accuracy: 0.8139\n",
            "Epoch 6/30\n",
            "55000/55000 [==============================] - 7s 120us/sample - loss: 0.4956 - accuracy: 0.8213\n",
            "Epoch 7/30\n",
            "55000/55000 [==============================] - 7s 119us/sample - loss: 0.4792 - accuracy: 0.8274\n",
            "Epoch 8/30\n",
            "55000/55000 [==============================] - 7s 121us/sample - loss: 0.4677 - accuracy: 0.8292\n",
            "Epoch 9/30\n",
            "55000/55000 [==============================] - 7s 119us/sample - loss: 0.4592 - accuracy: 0.8330\n",
            "Epoch 10/30\n",
            "55000/55000 [==============================] - 6s 117us/sample - loss: 0.4477 - accuracy: 0.8363\n",
            "Epoch 11/30\n",
            "55000/55000 [==============================] - 6s 115us/sample - loss: 0.4395 - accuracy: 0.8398\n",
            "Epoch 12/30\n",
            "55000/55000 [==============================] - 6s 115us/sample - loss: 0.4335 - accuracy: 0.8421\n",
            "Epoch 13/30\n",
            "55000/55000 [==============================] - 6s 116us/sample - loss: 0.4239 - accuracy: 0.8460\n",
            "Epoch 14/30\n",
            "55000/55000 [==============================] - 6s 116us/sample - loss: 0.4221 - accuracy: 0.8458\n",
            "Epoch 15/30\n",
            "55000/55000 [==============================] - 6s 117us/sample - loss: 0.4173 - accuracy: 0.8462\n",
            "Epoch 16/30\n",
            "55000/55000 [==============================] - 6s 116us/sample - loss: 0.4140 - accuracy: 0.8477\n",
            "Epoch 17/30\n",
            "55000/55000 [==============================] - 6s 116us/sample - loss: 0.4052 - accuracy: 0.8513\n",
            "Epoch 18/30\n",
            "55000/55000 [==============================] - 6s 118us/sample - loss: 0.4027 - accuracy: 0.8533\n",
            "Epoch 19/30\n",
            "55000/55000 [==============================] - 6s 117us/sample - loss: 0.3976 - accuracy: 0.8538\n",
            "Epoch 20/30\n",
            "55000/55000 [==============================] - 6s 117us/sample - loss: 0.3954 - accuracy: 0.8542\n",
            "Epoch 21/30\n",
            "55000/55000 [==============================] - 6s 118us/sample - loss: 0.3910 - accuracy: 0.8565\n",
            "Epoch 22/30\n",
            "55000/55000 [==============================] - 6s 118us/sample - loss: 0.3883 - accuracy: 0.8574\n",
            "Epoch 23/30\n",
            "55000/55000 [==============================] - 7s 119us/sample - loss: 0.3876 - accuracy: 0.8582\n",
            "Epoch 24/30\n",
            "55000/55000 [==============================] - 7s 119us/sample - loss: 0.3834 - accuracy: 0.8591\n",
            "Epoch 25/30\n",
            "55000/55000 [==============================] - 6s 117us/sample - loss: 0.3801 - accuracy: 0.8600\n",
            "Epoch 26/30\n",
            "55000/55000 [==============================] - 6s 117us/sample - loss: 0.3767 - accuracy: 0.8619\n",
            "Epoch 27/30\n",
            "55000/55000 [==============================] - 6s 118us/sample - loss: 0.3719 - accuracy: 0.8633\n",
            "Epoch 28/30\n",
            "55000/55000 [==============================] - 6s 117us/sample - loss: 0.3712 - accuracy: 0.8639\n",
            "Epoch 29/30\n",
            "55000/55000 [==============================] - 6s 116us/sample - loss: 0.3713 - accuracy: 0.8634\n",
            "Epoch 30/30\n",
            "55000/55000 [==============================] - 6s 116us/sample - loss: 0.3704 - accuracy: 0.8631\n"
          ],
          "name": "stdout"
        }
      ]
    },
    {
      "cell_type": "code",
      "metadata": {
        "id": "-vcpNoKZLYon",
        "colab_type": "code",
        "outputId": "933d3540-7b0f-42d4-9d3a-9e7e038354d3",
        "colab": {
          "base_uri": "https://localhost:8080/",
          "height": 136
        }
      },
      "source": [
        "history.params"
      ],
      "execution_count": 229,
      "outputs": [
        {
          "output_type": "execute_result",
          "data": {
            "text/plain": [
              "{'batch_size': 32,\n",
              " 'do_validation': False,\n",
              " 'epochs': 30,\n",
              " 'metrics': ['loss', 'accuracy'],\n",
              " 'samples': 55000,\n",
              " 'steps': 1719,\n",
              " 'verbose': 1}"
            ]
          },
          "metadata": {
            "tags": []
          },
          "execution_count": 229
        }
      ]
    },
    {
      "cell_type": "code",
      "metadata": {
        "id": "9OaXlIytPyW4",
        "colab_type": "code",
        "outputId": "ad82dad6-eb18-4642-d276-a1663a0578c5",
        "colab": {
          "base_uri": "https://localhost:8080/",
          "height": 527
        }
      },
      "source": [
        "history.epoch"
      ],
      "execution_count": 230,
      "outputs": [
        {
          "output_type": "execute_result",
          "data": {
            "text/plain": [
              "[0,\n",
              " 1,\n",
              " 2,\n",
              " 3,\n",
              " 4,\n",
              " 5,\n",
              " 6,\n",
              " 7,\n",
              " 8,\n",
              " 9,\n",
              " 10,\n",
              " 11,\n",
              " 12,\n",
              " 13,\n",
              " 14,\n",
              " 15,\n",
              " 16,\n",
              " 17,\n",
              " 18,\n",
              " 19,\n",
              " 20,\n",
              " 21,\n",
              " 22,\n",
              " 23,\n",
              " 24,\n",
              " 25,\n",
              " 26,\n",
              " 27,\n",
              " 28,\n",
              " 29]"
            ]
          },
          "metadata": {
            "tags": []
          },
          "execution_count": 230
        }
      ]
    },
    {
      "cell_type": "code",
      "metadata": {
        "id": "nYVvGdxWP7S6",
        "colab_type": "code",
        "outputId": "572abac6-b299-428b-bbe5-25bda8143e98",
        "colab": {
          "base_uri": "https://localhost:8080/",
          "height": 1000
        }
      },
      "source": [
        "history.history"
      ],
      "execution_count": 231,
      "outputs": [
        {
          "output_type": "execute_result",
          "data": {
            "text/plain": [
              "{'accuracy': [0.6702909,\n",
              "  0.76872724,\n",
              "  0.79196364,\n",
              "  0.8040364,\n",
              "  0.8138546,\n",
              "  0.82127273,\n",
              "  0.8273636,\n",
              "  0.8292,\n",
              "  0.83296365,\n",
              "  0.8362909,\n",
              "  0.8397818,\n",
              "  0.84205455,\n",
              "  0.84596366,\n",
              "  0.8457636,\n",
              "  0.8462,\n",
              "  0.8477455,\n",
              "  0.8512727,\n",
              "  0.8532909,\n",
              "  0.8538182,\n",
              "  0.85416365,\n",
              "  0.85647273,\n",
              "  0.85743636,\n",
              "  0.8582364,\n",
              "  0.8591273,\n",
              "  0.8600364,\n",
              "  0.86185455,\n",
              "  0.8633091,\n",
              "  0.8638727,\n",
              "  0.86341816,\n",
              "  0.8630546],\n",
              " 'loss': [0.924209782669761,\n",
              "  0.6435924918824976,\n",
              "  0.5813354621800509,\n",
              "  0.5403185622822154,\n",
              "  0.5141863319310275,\n",
              "  0.49559729104692285,\n",
              "  0.47918253906423397,\n",
              "  0.4676668705333363,\n",
              "  0.45915443833524533,\n",
              "  0.4477040829181671,\n",
              "  0.4394690341342579,\n",
              "  0.4334607249303298,\n",
              "  0.4238725702805953,\n",
              "  0.4221424481348558,\n",
              "  0.41727504042278635,\n",
              "  0.41397636222839357,\n",
              "  0.40521704750061033,\n",
              "  0.4026651497407393,\n",
              "  0.39761274824142456,\n",
              "  0.395391107897325,\n",
              "  0.3910004304495725,\n",
              "  0.3882832925709811,\n",
              "  0.38761481095660816,\n",
              "  0.3834495783025568,\n",
              "  0.38007255710688503,\n",
              "  0.3766521659114144,\n",
              "  0.37186346614577553,\n",
              "  0.3711987356619401,\n",
              "  0.3712814727046273,\n",
              "  0.37038861391761085]}"
            ]
          },
          "metadata": {
            "tags": []
          },
          "execution_count": 231
        }
      ]
    },
    {
      "cell_type": "code",
      "metadata": {
        "id": "t9ng_vceQCNW",
        "colab_type": "code",
        "outputId": "ced9ee28-886a-4265-8c80-9af724b88597",
        "colab": {
          "base_uri": "https://localhost:8080/",
          "height": 34
        }
      },
      "source": [
        "history.history.keys()"
      ],
      "execution_count": 232,
      "outputs": [
        {
          "output_type": "execute_result",
          "data": {
            "text/plain": [
              "dict_keys(['loss', 'accuracy'])"
            ]
          },
          "metadata": {
            "tags": []
          },
          "execution_count": 232
        }
      ]
    },
    {
      "cell_type": "code",
      "metadata": {
        "id": "xG5Nu0GrQIVz",
        "colab_type": "code",
        "colab": {}
      },
      "source": [
        "import pandas as pd\n",
        "import matplotlib.pyplot as plt\n",
        "history_df = pd.DataFrame(history.history)"
      ],
      "execution_count": 0,
      "outputs": []
    },
    {
      "cell_type": "code",
      "metadata": {
        "id": "I3UHmTPAQd4z",
        "colab_type": "code",
        "outputId": "afc35b0b-2a35-4d30-90ab-ca23ebbee48b",
        "colab": {
          "base_uri": "https://localhost:8080/",
          "height": 979
        }
      },
      "source": [
        "history_df"
      ],
      "execution_count": 234,
      "outputs": [
        {
          "output_type": "execute_result",
          "data": {
            "text/html": [
              "<div>\n",
              "<style scoped>\n",
              "    .dataframe tbody tr th:only-of-type {\n",
              "        vertical-align: middle;\n",
              "    }\n",
              "\n",
              "    .dataframe tbody tr th {\n",
              "        vertical-align: top;\n",
              "    }\n",
              "\n",
              "    .dataframe thead th {\n",
              "        text-align: right;\n",
              "    }\n",
              "</style>\n",
              "<table border=\"1\" class=\"dataframe\">\n",
              "  <thead>\n",
              "    <tr style=\"text-align: right;\">\n",
              "      <th></th>\n",
              "      <th>loss</th>\n",
              "      <th>accuracy</th>\n",
              "    </tr>\n",
              "  </thead>\n",
              "  <tbody>\n",
              "    <tr>\n",
              "      <th>0</th>\n",
              "      <td>0.924210</td>\n",
              "      <td>0.670291</td>\n",
              "    </tr>\n",
              "    <tr>\n",
              "      <th>1</th>\n",
              "      <td>0.643592</td>\n",
              "      <td>0.768727</td>\n",
              "    </tr>\n",
              "    <tr>\n",
              "      <th>2</th>\n",
              "      <td>0.581335</td>\n",
              "      <td>0.791964</td>\n",
              "    </tr>\n",
              "    <tr>\n",
              "      <th>3</th>\n",
              "      <td>0.540319</td>\n",
              "      <td>0.804036</td>\n",
              "    </tr>\n",
              "    <tr>\n",
              "      <th>4</th>\n",
              "      <td>0.514186</td>\n",
              "      <td>0.813855</td>\n",
              "    </tr>\n",
              "    <tr>\n",
              "      <th>5</th>\n",
              "      <td>0.495597</td>\n",
              "      <td>0.821273</td>\n",
              "    </tr>\n",
              "    <tr>\n",
              "      <th>6</th>\n",
              "      <td>0.479183</td>\n",
              "      <td>0.827364</td>\n",
              "    </tr>\n",
              "    <tr>\n",
              "      <th>7</th>\n",
              "      <td>0.467667</td>\n",
              "      <td>0.829200</td>\n",
              "    </tr>\n",
              "    <tr>\n",
              "      <th>8</th>\n",
              "      <td>0.459154</td>\n",
              "      <td>0.832964</td>\n",
              "    </tr>\n",
              "    <tr>\n",
              "      <th>9</th>\n",
              "      <td>0.447704</td>\n",
              "      <td>0.836291</td>\n",
              "    </tr>\n",
              "    <tr>\n",
              "      <th>10</th>\n",
              "      <td>0.439469</td>\n",
              "      <td>0.839782</td>\n",
              "    </tr>\n",
              "    <tr>\n",
              "      <th>11</th>\n",
              "      <td>0.433461</td>\n",
              "      <td>0.842055</td>\n",
              "    </tr>\n",
              "    <tr>\n",
              "      <th>12</th>\n",
              "      <td>0.423873</td>\n",
              "      <td>0.845964</td>\n",
              "    </tr>\n",
              "    <tr>\n",
              "      <th>13</th>\n",
              "      <td>0.422142</td>\n",
              "      <td>0.845764</td>\n",
              "    </tr>\n",
              "    <tr>\n",
              "      <th>14</th>\n",
              "      <td>0.417275</td>\n",
              "      <td>0.846200</td>\n",
              "    </tr>\n",
              "    <tr>\n",
              "      <th>15</th>\n",
              "      <td>0.413976</td>\n",
              "      <td>0.847745</td>\n",
              "    </tr>\n",
              "    <tr>\n",
              "      <th>16</th>\n",
              "      <td>0.405217</td>\n",
              "      <td>0.851273</td>\n",
              "    </tr>\n",
              "    <tr>\n",
              "      <th>17</th>\n",
              "      <td>0.402665</td>\n",
              "      <td>0.853291</td>\n",
              "    </tr>\n",
              "    <tr>\n",
              "      <th>18</th>\n",
              "      <td>0.397613</td>\n",
              "      <td>0.853818</td>\n",
              "    </tr>\n",
              "    <tr>\n",
              "      <th>19</th>\n",
              "      <td>0.395391</td>\n",
              "      <td>0.854164</td>\n",
              "    </tr>\n",
              "    <tr>\n",
              "      <th>20</th>\n",
              "      <td>0.391000</td>\n",
              "      <td>0.856473</td>\n",
              "    </tr>\n",
              "    <tr>\n",
              "      <th>21</th>\n",
              "      <td>0.388283</td>\n",
              "      <td>0.857436</td>\n",
              "    </tr>\n",
              "    <tr>\n",
              "      <th>22</th>\n",
              "      <td>0.387615</td>\n",
              "      <td>0.858236</td>\n",
              "    </tr>\n",
              "    <tr>\n",
              "      <th>23</th>\n",
              "      <td>0.383450</td>\n",
              "      <td>0.859127</td>\n",
              "    </tr>\n",
              "    <tr>\n",
              "      <th>24</th>\n",
              "      <td>0.380073</td>\n",
              "      <td>0.860036</td>\n",
              "    </tr>\n",
              "    <tr>\n",
              "      <th>25</th>\n",
              "      <td>0.376652</td>\n",
              "      <td>0.861855</td>\n",
              "    </tr>\n",
              "    <tr>\n",
              "      <th>26</th>\n",
              "      <td>0.371863</td>\n",
              "      <td>0.863309</td>\n",
              "    </tr>\n",
              "    <tr>\n",
              "      <th>27</th>\n",
              "      <td>0.371199</td>\n",
              "      <td>0.863873</td>\n",
              "    </tr>\n",
              "    <tr>\n",
              "      <th>28</th>\n",
              "      <td>0.371281</td>\n",
              "      <td>0.863418</td>\n",
              "    </tr>\n",
              "    <tr>\n",
              "      <th>29</th>\n",
              "      <td>0.370389</td>\n",
              "      <td>0.863055</td>\n",
              "    </tr>\n",
              "  </tbody>\n",
              "</table>\n",
              "</div>"
            ],
            "text/plain": [
              "        loss  accuracy\n",
              "0   0.924210  0.670291\n",
              "1   0.643592  0.768727\n",
              "2   0.581335  0.791964\n",
              "3   0.540319  0.804036\n",
              "4   0.514186  0.813855\n",
              "5   0.495597  0.821273\n",
              "6   0.479183  0.827364\n",
              "7   0.467667  0.829200\n",
              "8   0.459154  0.832964\n",
              "9   0.447704  0.836291\n",
              "10  0.439469  0.839782\n",
              "11  0.433461  0.842055\n",
              "12  0.423873  0.845964\n",
              "13  0.422142  0.845764\n",
              "14  0.417275  0.846200\n",
              "15  0.413976  0.847745\n",
              "16  0.405217  0.851273\n",
              "17  0.402665  0.853291\n",
              "18  0.397613  0.853818\n",
              "19  0.395391  0.854164\n",
              "20  0.391000  0.856473\n",
              "21  0.388283  0.857436\n",
              "22  0.387615  0.858236\n",
              "23  0.383450  0.859127\n",
              "24  0.380073  0.860036\n",
              "25  0.376652  0.861855\n",
              "26  0.371863  0.863309\n",
              "27  0.371199  0.863873\n",
              "28  0.371281  0.863418\n",
              "29  0.370389  0.863055"
            ]
          },
          "metadata": {
            "tags": []
          },
          "execution_count": 234
        }
      ]
    },
    {
      "cell_type": "code",
      "metadata": {
        "id": "OFIJEgUcQfOA",
        "colab_type": "code",
        "outputId": "a13995cf-c849-4c81-d107-1efa6c645064",
        "colab": {
          "base_uri": "https://localhost:8080/",
          "height": 324
        }
      },
      "source": [
        "history_df.plot(figsize=(8,5))\n",
        "plt.grid(True)\n",
        "plt.gca().set_ylim(0,1)\n",
        "plt.show()"
      ],
      "execution_count": 235,
      "outputs": [
        {
          "output_type": "display_data",
          "data": {
            "image/png": "[encoded data removed]",
            "text/plain": [
              "<Figure size 576x360 with 1 Axes>"
            ]
          },
          "metadata": {
            "tags": []
          }
        }
      ]
    },
    {
      "cell_type": "markdown",
      "metadata": {
        "id": "Bdh1MYmYSxis",
        "colab_type": "text"
      },
      "source": [
        "#### Evaluating the model"
      ]
    },
    {
      "cell_type": "code",
      "metadata": {
        "id": "OvwqibHiQzBo",
        "colab_type": "code",
        "outputId": "921f815b-2ebc-49f0-e010-6af1d44eef6f",
        "colab": {
          "base_uri": "https://localhost:8080/",
          "height": 51
        }
      },
      "source": [
        "model.evaluate(X_test,y_test)"
      ],
      "execution_count": 236,
      "outputs": [
        {
          "output_type": "stream",
          "text": [
            "10000/10000 [==============================] - 1s 60us/sample - loss: 52.2551 - accuracy: 0.8264\n"
          ],
          "name": "stdout"
        },
        {
          "output_type": "execute_result",
          "data": {
            "text/plain": [
              "[52.25512415367363, 0.8264]"
            ]
          },
          "metadata": {
            "tags": []
          },
          "execution_count": 236
        }
      ]
    },
    {
      "cell_type": "markdown",
      "metadata": {
        "id": "rT9wN1IJS1z3",
        "colab_type": "text"
      },
      "source": [
        "#### Making Predictions"
      ]
    },
    {
      "cell_type": "code",
      "metadata": {
        "id": "RuUQAwCySkPC",
        "colab_type": "code",
        "colab": {}
      },
      "source": [
        "X_new = X_test[:3]\n",
        "y_proba = model.predict(X_new)"
      ],
      "execution_count": 0,
      "outputs": []
    },
    {
      "cell_type": "code",
      "metadata": {
        "id": "lZp7yS0SUCtE",
        "colab_type": "code",
        "outputId": "30099d4f-cf79-4aeb-ddbb-383234f180fc",
        "colab": {
          "base_uri": "https://localhost:8080/",
          "height": 68
        }
      },
      "source": [
        "y_proba.round(2)"
      ],
      "execution_count": 238,
      "outputs": [
        {
          "output_type": "execute_result",
          "data": {
            "text/plain": [
              "array([[0., 0., 0., 0., 0., 0., 0., 0., 0., 1.],\n",
              "       [0., 0., 1., 0., 0., 0., 0., 0., 0., 0.],\n",
              "       [0., 1., 0., 0., 0., 0., 0., 0., 0., 0.]], dtype=float32)"
            ]
          },
          "metadata": {
            "tags": []
          },
          "execution_count": 238
        }
      ]
    },
    {
      "cell_type": "code",
      "metadata": {
        "id": "0Mg0PxMnUDy9",
        "colab_type": "code",
        "colab": {}
      },
      "source": [
        "y_pred = model.predict_classes(X_new)"
      ],
      "execution_count": 0,
      "outputs": []
    },
    {
      "cell_type": "code",
      "metadata": {
        "id": "AZukWR0iUw7l",
        "colab_type": "code",
        "outputId": "9834411c-9bd5-4534-e382-961decfb662a",
        "colab": {
          "base_uri": "https://localhost:8080/",
          "height": 34
        }
      },
      "source": [
        "y_pred"
      ],
      "execution_count": 240,
      "outputs": [
        {
          "output_type": "execute_result",
          "data": {
            "text/plain": [
              "array([9, 2, 1])"
            ]
          },
          "metadata": {
            "tags": []
          },
          "execution_count": 240
        }
      ]
    },
    {
      "cell_type": "code",
      "metadata": {
        "id": "s4r1_sU0UyV6",
        "colab_type": "code",
        "outputId": "a172460d-a422-43b4-c548-22ab2e39ab8d",
        "colab": {
          "base_uri": "https://localhost:8080/",
          "height": 34
        }
      },
      "source": [
        "y_test[:3]"
      ],
      "execution_count": 241,
      "outputs": [
        {
          "output_type": "execute_result",
          "data": {
            "text/plain": [
              "array([9, 2, 1], dtype=uint8)"
            ]
          },
          "metadata": {
            "tags": []
          },
          "execution_count": 241
        }
      ]
    },
    {
      "cell_type": "code",
      "metadata": {
        "id": "wc0cce5FU5wi",
        "colab_type": "code",
        "colab": {}
      },
      "source": [
        ""
      ],
      "execution_count": 0,
      "outputs": []
    }
  ]
}
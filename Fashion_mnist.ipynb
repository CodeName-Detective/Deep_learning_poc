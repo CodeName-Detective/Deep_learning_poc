{
  "nbformat": 4,
  "nbformat_minor": 0,
  "metadata": {
    "colab": {
      "name": "Fashion_mnist.ipynb",
      "provenance": [],
      "collapsed_sections": []
    },
    "kernelspec": {
      "name": "python3",
      "display_name": "Python 3"
    }
  },
  "cells": [
    {
      "cell_type": "code",
      "metadata": {
        "id": "yTsuwPS88chB",
        "colab_type": "code",
        "colab": {
          "base_uri": "https://localhost:8080/",
          "height": 34
        },
        "outputId": "500c222f-7c43-489f-ad9e-b569b72a5f33"
      },
      "source": [
        "%tensorflow_version 2.x"
      ],
      "execution_count": 1,
      "outputs": [
        {
          "output_type": "stream",
          "text": [
            "TensorFlow 2.x selected.\n"
          ],
          "name": "stdout"
        }
      ]
    },
    {
      "cell_type": "code",
      "metadata": {
        "id": "LyGift9q8i60",
        "colab_type": "code",
        "colab": {}
      },
      "source": [
        "import tensorflow as tf\n",
        "from tensorflow import keras"
      ],
      "execution_count": 0,
      "outputs": []
    },
    {
      "cell_type": "code",
      "metadata": {
        "id": "bTtjXiaw8prP",
        "colab_type": "code",
        "colab": {
          "base_uri": "https://localhost:8080/",
          "height": 34
        },
        "outputId": "54a08186-2af2-46f1-fb65-0870a8b17bab"
      },
      "source": [
        "tf.__version__"
      ],
      "execution_count": 3,
      "outputs": [
        {
          "output_type": "execute_result",
          "data": {
            "text/plain": [
              "'2.1.0'"
            ]
          },
          "metadata": {
            "tags": []
          },
          "execution_count": 3
        }
      ]
    },
    {
      "cell_type": "code",
      "metadata": {
        "id": "cHJISobr8sCj",
        "colab_type": "code",
        "colab": {
          "base_uri": "https://localhost:8080/",
          "height": 34
        },
        "outputId": "280cd5cd-d73f-4422-f02c-6dc12c886a5f"
      },
      "source": [
        "keras.__version__"
      ],
      "execution_count": 4,
      "outputs": [
        {
          "output_type": "execute_result",
          "data": {
            "text/plain": [
              "'2.2.4-tf'"
            ]
          },
          "metadata": {
            "tags": []
          },
          "execution_count": 4
        }
      ]
    },
    {
      "cell_type": "markdown",
      "metadata": {
        "id": "Hp-4dA4T9FVv",
        "colab_type": "text"
      },
      "source": [
        "#### Keras to load the Dataset"
      ]
    },
    {
      "cell_type": "code",
      "metadata": {
        "id": "ptjOBx2s8ujH",
        "colab_type": "code",
        "colab": {}
      },
      "source": [
        "fashion_mnist = keras.datasets.fashion_mnist"
      ],
      "execution_count": 0,
      "outputs": []
    },
    {
      "cell_type": "code",
      "metadata": {
        "id": "JZA40Ng89ebG",
        "colab_type": "code",
        "colab": {
          "base_uri": "https://localhost:8080/",
          "height": 153
        },
        "outputId": "e6bf5091-f355-40e2-ad5e-233111c821fd"
      },
      "source": [
        "(X_train_full,y_train_full), (X_test,y_test) = fashion_mnist.load_data()"
      ],
      "execution_count": 6,
      "outputs": [
        {
          "output_type": "stream",
          "text": [
            "Downloading data from https://storage.googleapis.com/tensorflow/tf-keras-datasets/train-labels-idx1-ubyte.gz\n",
            "32768/29515 [=================================] - 0s 0us/step\n",
            "Downloading data from https://storage.googleapis.com/tensorflow/tf-keras-datasets/train-images-idx3-ubyte.gz\n",
            "26427392/26421880 [==============================] - 0s 0us/step\n",
            "Downloading data from https://storage.googleapis.com/tensorflow/tf-keras-datasets/t10k-labels-idx1-ubyte.gz\n",
            "8192/5148 [===============================================] - 0s 0us/step\n",
            "Downloading data from https://storage.googleapis.com/tensorflow/tf-keras-datasets/t10k-images-idx3-ubyte.gz\n",
            "4423680/4422102 [==============================] - 0s 0us/step\n"
          ],
          "name": "stdout"
        }
      ]
    },
    {
      "cell_type": "code",
      "metadata": {
        "id": "mknChqbrCVMd",
        "colab_type": "code",
        "colab": {
          "base_uri": "https://localhost:8080/",
          "height": 34
        },
        "outputId": "4653bec4-c167-4fa6-f9a4-304b26d25b0b"
      },
      "source": [
        "X_train_full.shape"
      ],
      "execution_count": 7,
      "outputs": [
        {
          "output_type": "execute_result",
          "data": {
            "text/plain": [
              "(60000, 28, 28)"
            ]
          },
          "metadata": {
            "tags": []
          },
          "execution_count": 7
        }
      ]
    },
    {
      "cell_type": "code",
      "metadata": {
        "id": "UcRJU13rCgad",
        "colab_type": "code",
        "colab": {
          "base_uri": "https://localhost:8080/",
          "height": 34
        },
        "outputId": "e1ec49ea-121e-4637-9a6a-b463cbe6b8a2"
      },
      "source": [
        "X_train_full.dtype"
      ],
      "execution_count": 9,
      "outputs": [
        {
          "output_type": "execute_result",
          "data": {
            "text/plain": [
              "dtype('uint8')"
            ]
          },
          "metadata": {
            "tags": []
          },
          "execution_count": 9
        }
      ]
    },
    {
      "cell_type": "markdown",
      "metadata": {
        "id": "kv7YQ8nBDtGf",
        "colab_type": "text"
      },
      "source": [
        "#### Pre Processing"
      ]
    },
    {
      "cell_type": "code",
      "metadata": {
        "id": "IPqikIRUCifk",
        "colab_type": "code",
        "colab": {}
      },
      "source": [
        "X_valid, X_train = X_train_full[:5000]/255.0, X_train_full[5000:]/255.0\n",
        "y_valid, y_train = y_train_full[:5000], y_train_full[5000:]"
      ],
      "execution_count": 0,
      "outputs": []
    },
    {
      "cell_type": "code",
      "metadata": {
        "id": "hEtN8OccDElC",
        "colab_type": "code",
        "colab": {
          "base_uri": "https://localhost:8080/",
          "height": 34
        },
        "outputId": "47d31ee3-0680-497d-b351-a289b8141d49"
      },
      "source": [
        "y_train"
      ],
      "execution_count": 11,
      "outputs": [
        {
          "output_type": "execute_result",
          "data": {
            "text/plain": [
              "array([4, 0, 7, ..., 3, 0, 5], dtype=uint8)"
            ]
          },
          "metadata": {
            "tags": []
          },
          "execution_count": 11
        }
      ]
    },
    {
      "cell_type": "code",
      "metadata": {
        "id": "NwQLgWraDHZO",
        "colab_type": "code",
        "colab": {}
      },
      "source": [
        "class_names = [\"T-shirt/top\",\"Trouser\",\"Pullover\",\"Dress\",\"Coat\",\"Sandal\",\"Shirt\",\"Sneaker\",\"Bag\",\"Ankle boot\"]"
      ],
      "execution_count": 0,
      "outputs": []
    },
    {
      "cell_type": "code",
      "metadata": {
        "id": "_kStcySMDgNP",
        "colab_type": "code",
        "colab": {
          "base_uri": "https://localhost:8080/",
          "height": 34
        },
        "outputId": "381c384a-7d82-4cb5-e6ac-decce3d7ebc2"
      },
      "source": [
        "class_names[y_train[0]]"
      ],
      "execution_count": 14,
      "outputs": [
        {
          "output_type": "execute_result",
          "data": {
            "text/plain": [
              "'Coat'"
            ]
          },
          "metadata": {
            "tags": []
          },
          "execution_count": 14
        }
      ]
    },
    {
      "cell_type": "markdown",
      "metadata": {
        "id": "9WgcUjFyDzMj",
        "colab_type": "text"
      },
      "source": [
        "#### Model Building"
      ]
    },
    {
      "cell_type": "code",
      "metadata": {
        "id": "sL67fxFGDoEi",
        "colab_type": "code",
        "colab": {}
      },
      "source": [
        "model = keras.models.Sequential()\n",
        "model.add(keras.layers.Flatten(input_shape=[28,28]))\n",
        "model.add(keras.layers.Dense(300,activation=\"relu\"))\n",
        "model.add(keras.layers.Dense(100,activation=\"relu\"))\n",
        "model.add(keras.layers.Dense(10,activation=\"softmax\"))"
      ],
      "execution_count": 0,
      "outputs": []
    },
    {
      "cell_type": "code",
      "metadata": {
        "id": "A16x295vGAGy",
        "colab_type": "code",
        "colab": {
          "base_uri": "https://localhost:8080/",
          "height": 289
        },
        "outputId": "e990d3df-caf8-41b9-ce53-9ccc5867ee1d"
      },
      "source": [
        "model.summary()"
      ],
      "execution_count": 18,
      "outputs": [
        {
          "output_type": "stream",
          "text": [
            "Model: \"sequential_1\"\n",
            "_________________________________________________________________\n",
            "Layer (type)                 Output Shape              Param #   \n",
            "=================================================================\n",
            "flatten_1 (Flatten)          (None, 784)               0         \n",
            "_________________________________________________________________\n",
            "dense (Dense)                (None, 300)               235500    \n",
            "_________________________________________________________________\n",
            "dense_1 (Dense)              (None, 100)               30100     \n",
            "_________________________________________________________________\n",
            "dense_2 (Dense)              (None, 10)                1010      \n",
            "=================================================================\n",
            "Total params: 266,610\n",
            "Trainable params: 266,610\n",
            "Non-trainable params: 0\n",
            "_________________________________________________________________\n"
          ],
          "name": "stdout"
        }
      ]
    },
    {
      "cell_type": "code",
      "metadata": {
        "id": "Rf5Cna-xEgRu",
        "colab_type": "code",
        "colab": {}
      },
      "source": [
        "model2 = keras.models.Sequential(\n",
        "    [\n",
        "     keras.layers.Flatten(input_shape=[28,28]),\n",
        "     keras.layers.Dense(300,activation=\"relu\"),\n",
        "     keras.layers.Dense(100,activation=\"relu\"),\n",
        "     keras.layers.Dense(10,activation=\"softmax\")\n",
        "    ]\n",
        ")"
      ],
      "execution_count": 0,
      "outputs": []
    },
    {
      "cell_type": "code",
      "metadata": {
        "id": "RRbjJgDLFqZl",
        "colab_type": "code",
        "colab": {
          "base_uri": "https://localhost:8080/",
          "height": 289
        },
        "outputId": "06edea6b-9b49-4ae3-9079-c358a4d8fe48"
      },
      "source": [
        "model2.summary()"
      ],
      "execution_count": 19,
      "outputs": [
        {
          "output_type": "stream",
          "text": [
            "Model: \"sequential_2\"\n",
            "_________________________________________________________________\n",
            "Layer (type)                 Output Shape              Param #   \n",
            "=================================================================\n",
            "flatten_2 (Flatten)          (None, 784)               0         \n",
            "_________________________________________________________________\n",
            "dense_3 (Dense)              (None, 300)               235500    \n",
            "_________________________________________________________________\n",
            "dense_4 (Dense)              (None, 100)               30100     \n",
            "_________________________________________________________________\n",
            "dense_5 (Dense)              (None, 10)                1010      \n",
            "=================================================================\n",
            "Total params: 266,610\n",
            "Trainable params: 266,610\n",
            "Non-trainable params: 0\n",
            "_________________________________________________________________\n"
          ],
          "name": "stdout"
        }
      ]
    },
    {
      "cell_type": "code",
      "metadata": {
        "id": "m_AdY8BsGFPm",
        "colab_type": "code",
        "colab": {
          "base_uri": "https://localhost:8080/",
          "height": 533
        },
        "outputId": "a2231cc7-eb0a-4a20-a4d8-b1f6e25c200d"
      },
      "source": [
        "keras.utils.plot_model(model2,show_shapes=True) #Plotting the model"
      ],
      "execution_count": 21,
      "outputs": [
        {
          "output_type": "execute_result",
          "data": {
            "image/png": "[encoded data removed]",
            "text/plain": [
              "<IPython.core.display.Image object>"
            ]
          },
          "metadata": {
            "tags": []
          },
          "execution_count": 21
        }
      ]
    },
    {
      "cell_type": "code",
      "metadata": {
        "id": "Mjg26eHgGtdn",
        "colab_type": "code",
        "colab": {
          "base_uri": "https://localhost:8080/",
          "height": 85
        },
        "outputId": "5f54085f-85b3-48ea-94ef-2056a39018e3"
      },
      "source": [
        "model.layers"
      ],
      "execution_count": 22,
      "outputs": [
        {
          "output_type": "execute_result",
          "data": {
            "text/plain": [
              "[<tensorflow.python.keras.layers.core.Flatten at 0x7f6ece749dd8>,\n",
              " <tensorflow.python.keras.layers.core.Dense at 0x7f6ece705b00>,\n",
              " <tensorflow.python.keras.layers.core.Dense at 0x7f6ece705d30>,\n",
              " <tensorflow.python.keras.layers.core.Dense at 0x7f6ece706a20>]"
            ]
          },
          "metadata": {
            "tags": []
          },
          "execution_count": 22
        }
      ]
    },
    {
      "cell_type": "code",
      "metadata": {
        "id": "lxE1D9MhHIOl",
        "colab_type": "code",
        "colab": {}
      },
      "source": [
        "hidden_1 = model.layers[1]"
      ],
      "execution_count": 0,
      "outputs": []
    },
    {
      "cell_type": "code",
      "metadata": {
        "id": "EGyVhCc6HNuC",
        "colab_type": "code",
        "colab": {
          "base_uri": "https://localhost:8080/",
          "height": 34
        },
        "outputId": "65567361-7ca1-408f-afd1-e4fdfb9800ab"
      },
      "source": [
        "hidden_1.name"
      ],
      "execution_count": 24,
      "outputs": [
        {
          "output_type": "execute_result",
          "data": {
            "text/plain": [
              "'dense'"
            ]
          },
          "metadata": {
            "tags": []
          },
          "execution_count": 24
        }
      ]
    },
    {
      "cell_type": "code",
      "metadata": {
        "id": "xR6tX3dMHPQb",
        "colab_type": "code",
        "colab": {
          "base_uri": "https://localhost:8080/",
          "height": 34
        },
        "outputId": "bda65325-1fe8-498b-acba-00cc27f5187f"
      },
      "source": [
        "model.get_layer('dense') is hidden_1"
      ],
      "execution_count": 26,
      "outputs": [
        {
          "output_type": "execute_result",
          "data": {
            "text/plain": [
              "True"
            ]
          },
          "metadata": {
            "tags": []
          },
          "execution_count": 26
        }
      ]
    },
    {
      "cell_type": "code",
      "metadata": {
        "id": "t_1Ex_RKHZH5",
        "colab_type": "code",
        "colab": {}
      },
      "source": [
        "weights,biases = hidden_1.get_weights()"
      ],
      "execution_count": 0,
      "outputs": []
    },
    {
      "cell_type": "code",
      "metadata": {
        "id": "OBY305L-JP1f",
        "colab_type": "code",
        "colab": {
          "base_uri": "https://localhost:8080/",
          "height": 238
        },
        "outputId": "1a6d47f3-d253-4b69-91bc-6c92c8677835"
      },
      "source": [
        "weights"
      ],
      "execution_count": 28,
      "outputs": [
        {
          "output_type": "execute_result",
          "data": {
            "text/plain": [
              "array([[-0.05327387,  0.07081306,  0.0085429 , ...,  0.00347084,\n",
              "        -0.01306613,  0.0389356 ],\n",
              "       [-0.05377353, -0.06425396,  0.06079696, ..., -0.00684525,\n",
              "        -0.06256616, -0.07157375],\n",
              "       [ 0.02042533,  0.02139451,  0.00940296, ..., -0.03391153,\n",
              "        -0.02912953,  0.04952586],\n",
              "       ...,\n",
              "       [-0.05080087, -0.00169989, -0.06764816, ..., -0.0268942 ,\n",
              "         0.0120765 , -0.0687631 ],\n",
              "       [-0.04578922, -0.07415459,  0.01154981, ..., -0.05338388,\n",
              "        -0.05976841,  0.0107002 ],\n",
              "       [-0.04409841, -0.07138021, -0.04321631, ..., -0.02526021,\n",
              "         0.04517851,  0.05967279]], dtype=float32)"
            ]
          },
          "metadata": {
            "tags": []
          },
          "execution_count": 28
        }
      ]
    },
    {
      "cell_type": "code",
      "metadata": {
        "id": "L3ctwdGDJVYG",
        "colab_type": "code",
        "colab": {
          "base_uri": "https://localhost:8080/",
          "height": 34
        },
        "outputId": "1ebf8ba2-e37e-4856-980b-4b0170c696ec"
      },
      "source": [
        "weights.shape"
      ],
      "execution_count": 30,
      "outputs": [
        {
          "output_type": "execute_result",
          "data": {
            "text/plain": [
              "(784, 300)"
            ]
          },
          "metadata": {
            "tags": []
          },
          "execution_count": 30
        }
      ]
    },
    {
      "cell_type": "code",
      "metadata": {
        "id": "o1I_xxaTJRGm",
        "colab_type": "code",
        "colab": {
          "base_uri": "https://localhost:8080/",
          "height": 323
        },
        "outputId": "be1043e1-6f1f-4c84-c687-5dc60c9dd48e"
      },
      "source": [
        "biases"
      ],
      "execution_count": 29,
      "outputs": [
        {
          "output_type": "execute_result",
          "data": {
            "text/plain": [
              "array([0., 0., 0., 0., 0., 0., 0., 0., 0., 0., 0., 0., 0., 0., 0., 0., 0.,\n",
              "       0., 0., 0., 0., 0., 0., 0., 0., 0., 0., 0., 0., 0., 0., 0., 0., 0.,\n",
              "       0., 0., 0., 0., 0., 0., 0., 0., 0., 0., 0., 0., 0., 0., 0., 0., 0.,\n",
              "       0., 0., 0., 0., 0., 0., 0., 0., 0., 0., 0., 0., 0., 0., 0., 0., 0.,\n",
              "       0., 0., 0., 0., 0., 0., 0., 0., 0., 0., 0., 0., 0., 0., 0., 0., 0.,\n",
              "       0., 0., 0., 0., 0., 0., 0., 0., 0., 0., 0., 0., 0., 0., 0., 0., 0.,\n",
              "       0., 0., 0., 0., 0., 0., 0., 0., 0., 0., 0., 0., 0., 0., 0., 0., 0.,\n",
              "       0., 0., 0., 0., 0., 0., 0., 0., 0., 0., 0., 0., 0., 0., 0., 0., 0.,\n",
              "       0., 0., 0., 0., 0., 0., 0., 0., 0., 0., 0., 0., 0., 0., 0., 0., 0.,\n",
              "       0., 0., 0., 0., 0., 0., 0., 0., 0., 0., 0., 0., 0., 0., 0., 0., 0.,\n",
              "       0., 0., 0., 0., 0., 0., 0., 0., 0., 0., 0., 0., 0., 0., 0., 0., 0.,\n",
              "       0., 0., 0., 0., 0., 0., 0., 0., 0., 0., 0., 0., 0., 0., 0., 0., 0.,\n",
              "       0., 0., 0., 0., 0., 0., 0., 0., 0., 0., 0., 0., 0., 0., 0., 0., 0.,\n",
              "       0., 0., 0., 0., 0., 0., 0., 0., 0., 0., 0., 0., 0., 0., 0., 0., 0.,\n",
              "       0., 0., 0., 0., 0., 0., 0., 0., 0., 0., 0., 0., 0., 0., 0., 0., 0.,\n",
              "       0., 0., 0., 0., 0., 0., 0., 0., 0., 0., 0., 0., 0., 0., 0., 0., 0.,\n",
              "       0., 0., 0., 0., 0., 0., 0., 0., 0., 0., 0., 0., 0., 0., 0., 0., 0.,\n",
              "       0., 0., 0., 0., 0., 0., 0., 0., 0., 0., 0.], dtype=float32)"
            ]
          },
          "metadata": {
            "tags": []
          },
          "execution_count": 29
        }
      ]
    },
    {
      "cell_type": "code",
      "metadata": {
        "id": "W2pk73q4JSP5",
        "colab_type": "code",
        "colab": {
          "base_uri": "https://localhost:8080/",
          "height": 34
        },
        "outputId": "29f88409-cef6-4b56-bdf3-f5a0352009e6"
      },
      "source": [
        "biases.shape"
      ],
      "execution_count": 31,
      "outputs": [
        {
          "output_type": "execute_result",
          "data": {
            "text/plain": [
              "(300,)"
            ]
          },
          "metadata": {
            "tags": []
          },
          "execution_count": 31
        }
      ]
    },
    {
      "cell_type": "markdown",
      "metadata": {
        "id": "WeBAAp0JJz-1",
        "colab_type": "text"
      },
      "source": [
        "#### Compiling the model"
      ]
    },
    {
      "cell_type": "code",
      "metadata": {
        "id": "Fl1QQi09JZJZ",
        "colab_type": "code",
        "colab": {}
      },
      "source": [
        "model.compile(\n",
        "    loss=\"sparse_categorical_crossentropy\",\n",
        "    optimizer=\"sgd\",\n",
        "    metrics=[\"accuracy\"]\n",
        ")"
      ],
      "execution_count": 0,
      "outputs": []
    },
    {
      "cell_type": "markdown",
      "metadata": {
        "id": "wPd7Rm4gLHql",
        "colab_type": "text"
      },
      "source": [
        "#### Training the Model"
      ]
    },
    {
      "cell_type": "code",
      "metadata": {
        "id": "gj6lBugmLGJH",
        "colab_type": "code",
        "colab": {
          "base_uri": "https://localhost:8080/",
          "height": 1000
        },
        "outputId": "13355816-7072-43db-d462-5f2bbb5b5931"
      },
      "source": [
        "history = model.fit(X_train,y_train, epochs=30, validation_data=(X_valid,y_valid))"
      ],
      "execution_count": 33,
      "outputs": [
        {
          "output_type": "stream",
          "text": [
            "Train on 55000 samples, validate on 5000 samples\n",
            "Epoch 1/30\n",
            "55000/55000 [==============================] - 6s 113us/sample - loss: 0.7101 - accuracy: 0.7677 - val_loss: 0.5059 - val_accuracy: 0.8352\n",
            "Epoch 2/30\n",
            "55000/55000 [==============================] - 6s 102us/sample - loss: 0.4887 - accuracy: 0.8306 - val_loss: 0.4515 - val_accuracy: 0.8448\n",
            "Epoch 3/30\n",
            "55000/55000 [==============================] - 6s 102us/sample - loss: 0.4442 - accuracy: 0.8444 - val_loss: 0.4876 - val_accuracy: 0.8186\n",
            "Epoch 4/30\n",
            "55000/55000 [==============================] - 6s 108us/sample - loss: 0.4143 - accuracy: 0.8554 - val_loss: 0.3948 - val_accuracy: 0.8688\n",
            "Epoch 5/30\n",
            "55000/55000 [==============================] - 6s 106us/sample - loss: 0.3952 - accuracy: 0.8611 - val_loss: 0.3807 - val_accuracy: 0.8748\n",
            "Epoch 6/30\n",
            "55000/55000 [==============================] - 6s 103us/sample - loss: 0.3769 - accuracy: 0.8675 - val_loss: 0.3790 - val_accuracy: 0.8696\n",
            "Epoch 7/30\n",
            "55000/55000 [==============================] - 6s 101us/sample - loss: 0.3642 - accuracy: 0.8719 - val_loss: 0.3690 - val_accuracy: 0.8704\n",
            "Epoch 8/30\n",
            "55000/55000 [==============================] - 6s 101us/sample - loss: 0.3510 - accuracy: 0.8765 - val_loss: 0.3501 - val_accuracy: 0.8788\n",
            "Epoch 9/30\n",
            "55000/55000 [==============================] - 6s 107us/sample - loss: 0.3415 - accuracy: 0.8782 - val_loss: 0.3544 - val_accuracy: 0.8778\n",
            "Epoch 10/30\n",
            "55000/55000 [==============================] - 6s 110us/sample - loss: 0.3315 - accuracy: 0.8815 - val_loss: 0.3478 - val_accuracy: 0.8760\n",
            "Epoch 11/30\n",
            "55000/55000 [==============================] - 6s 104us/sample - loss: 0.3228 - accuracy: 0.8854 - val_loss: 0.3684 - val_accuracy: 0.8740\n",
            "Epoch 12/30\n",
            "55000/55000 [==============================] - 6s 100us/sample - loss: 0.3149 - accuracy: 0.8878 - val_loss: 0.3374 - val_accuracy: 0.8800\n",
            "Epoch 13/30\n",
            "55000/55000 [==============================] - 6s 104us/sample - loss: 0.3080 - accuracy: 0.8894 - val_loss: 0.3339 - val_accuracy: 0.8808\n",
            "Epoch 14/30\n",
            "55000/55000 [==============================] - 6s 102us/sample - loss: 0.3006 - accuracy: 0.8927 - val_loss: 0.3290 - val_accuracy: 0.8844\n",
            "Epoch 15/30\n",
            "55000/55000 [==============================] - 6s 102us/sample - loss: 0.2941 - accuracy: 0.8948 - val_loss: 0.3314 - val_accuracy: 0.8814\n",
            "Epoch 16/30\n",
            "55000/55000 [==============================] - 6s 101us/sample - loss: 0.2877 - accuracy: 0.8975 - val_loss: 0.3271 - val_accuracy: 0.8798\n",
            "Epoch 17/30\n",
            "55000/55000 [==============================] - 6s 103us/sample - loss: 0.2819 - accuracy: 0.8991 - val_loss: 0.3298 - val_accuracy: 0.8834\n",
            "Epoch 18/30\n",
            "55000/55000 [==============================] - 6s 102us/sample - loss: 0.2761 - accuracy: 0.9006 - val_loss: 0.3215 - val_accuracy: 0.8836\n",
            "Epoch 19/30\n",
            "55000/55000 [==============================] - 6s 104us/sample - loss: 0.2714 - accuracy: 0.9023 - val_loss: 0.3172 - val_accuracy: 0.8848\n",
            "Epoch 20/30\n",
            "55000/55000 [==============================] - 6s 101us/sample - loss: 0.2657 - accuracy: 0.9051 - val_loss: 0.3204 - val_accuracy: 0.8832\n",
            "Epoch 21/30\n",
            "55000/55000 [==============================] - 6s 102us/sample - loss: 0.2603 - accuracy: 0.9075 - val_loss: 0.3121 - val_accuracy: 0.8860\n",
            "Epoch 22/30\n",
            "55000/55000 [==============================] - 6s 101us/sample - loss: 0.2557 - accuracy: 0.9081 - val_loss: 0.3199 - val_accuracy: 0.8820\n",
            "Epoch 23/30\n",
            "55000/55000 [==============================] - 6s 102us/sample - loss: 0.2512 - accuracy: 0.9105 - val_loss: 0.2998 - val_accuracy: 0.8934\n",
            "Epoch 24/30\n",
            "55000/55000 [==============================] - 6s 103us/sample - loss: 0.2472 - accuracy: 0.9119 - val_loss: 0.3165 - val_accuracy: 0.8850\n",
            "Epoch 25/30\n",
            "55000/55000 [==============================] - 6s 102us/sample - loss: 0.2413 - accuracy: 0.9137 - val_loss: 0.3154 - val_accuracy: 0.8882\n",
            "Epoch 26/30\n",
            "55000/55000 [==============================] - 6s 103us/sample - loss: 0.2386 - accuracy: 0.9142 - val_loss: 0.3077 - val_accuracy: 0.8868\n",
            "Epoch 27/30\n",
            "55000/55000 [==============================] - 6s 103us/sample - loss: 0.2339 - accuracy: 0.9155 - val_loss: 0.3015 - val_accuracy: 0.8898\n",
            "Epoch 28/30\n",
            "55000/55000 [==============================] - 6s 102us/sample - loss: 0.2306 - accuracy: 0.9169 - val_loss: 0.3021 - val_accuracy: 0.8928\n",
            "Epoch 29/30\n",
            "55000/55000 [==============================] - 6s 104us/sample - loss: 0.2260 - accuracy: 0.9201 - val_loss: 0.2991 - val_accuracy: 0.8900\n",
            "Epoch 30/30\n",
            "55000/55000 [==============================] - 6s 103us/sample - loss: 0.2221 - accuracy: 0.9203 - val_loss: 0.2990 - val_accuracy: 0.8880\n"
          ],
          "name": "stdout"
        }
      ]
    },
    {
      "cell_type": "code",
      "metadata": {
        "id": "-vcpNoKZLYon",
        "colab_type": "code",
        "colab": {
          "base_uri": "https://localhost:8080/",
          "height": 136
        },
        "outputId": "94961070-a899-4367-e3cc-46add4bb396d"
      },
      "source": [
        "history.params"
      ],
      "execution_count": 34,
      "outputs": [
        {
          "output_type": "execute_result",
          "data": {
            "text/plain": [
              "{'batch_size': 32,\n",
              " 'do_validation': True,\n",
              " 'epochs': 30,\n",
              " 'metrics': ['loss', 'accuracy', 'val_loss', 'val_accuracy'],\n",
              " 'samples': 55000,\n",
              " 'steps': 1719,\n",
              " 'verbose': 0}"
            ]
          },
          "metadata": {
            "tags": []
          },
          "execution_count": 34
        }
      ]
    },
    {
      "cell_type": "code",
      "metadata": {
        "id": "9OaXlIytPyW4",
        "colab_type": "code",
        "colab": {
          "base_uri": "https://localhost:8080/",
          "height": 527
        },
        "outputId": "395a42d8-96ef-4b6e-fd4d-effc37f999a6"
      },
      "source": [
        "history.epoch"
      ],
      "execution_count": 35,
      "outputs": [
        {
          "output_type": "execute_result",
          "data": {
            "text/plain": [
              "[0,\n",
              " 1,\n",
              " 2,\n",
              " 3,\n",
              " 4,\n",
              " 5,\n",
              " 6,\n",
              " 7,\n",
              " 8,\n",
              " 9,\n",
              " 10,\n",
              " 11,\n",
              " 12,\n",
              " 13,\n",
              " 14,\n",
              " 15,\n",
              " 16,\n",
              " 17,\n",
              " 18,\n",
              " 19,\n",
              " 20,\n",
              " 21,\n",
              " 22,\n",
              " 23,\n",
              " 24,\n",
              " 25,\n",
              " 26,\n",
              " 27,\n",
              " 28,\n",
              " 29]"
            ]
          },
          "metadata": {
            "tags": []
          },
          "execution_count": 35
        }
      ]
    },
    {
      "cell_type": "code",
      "metadata": {
        "id": "nYVvGdxWP7S6",
        "colab_type": "code",
        "colab": {
          "base_uri": "https://localhost:8080/",
          "height": 1000
        },
        "outputId": "3f224e1b-d385-4b8b-9cce-fc800925c3c3"
      },
      "source": [
        "history.history"
      ],
      "execution_count": 36,
      "outputs": [
        {
          "output_type": "execute_result",
          "data": {
            "text/plain": [
              "{'accuracy': [0.76774544,\n",
              "  0.8306364,\n",
              "  0.8444,\n",
              "  0.8554,\n",
              "  0.8611091,\n",
              "  0.8674727,\n",
              "  0.87185454,\n",
              "  0.8764727,\n",
              "  0.87816364,\n",
              "  0.88152725,\n",
              "  0.88543636,\n",
              "  0.88781816,\n",
              "  0.8893818,\n",
              "  0.8926727,\n",
              "  0.8948,\n",
              "  0.89745456,\n",
              "  0.8990545,\n",
              "  0.90058184,\n",
              "  0.9022909,\n",
              "  0.9051273,\n",
              "  0.9075091,\n",
              "  0.9080909,\n",
              "  0.91047275,\n",
              "  0.91185457,\n",
              "  0.9137091,\n",
              "  0.91416365,\n",
              "  0.9155273,\n",
              "  0.91687274,\n",
              "  0.92007273,\n",
              "  0.9202909],\n",
              " 'loss': [0.7101057528842579,\n",
              "  0.48871121994365346,\n",
              "  0.4442168045737527,\n",
              "  0.41432646246173166,\n",
              "  0.3952076830820604,\n",
              "  0.3769040563409979,\n",
              "  0.3641710183317011,\n",
              "  0.3509905325022611,\n",
              "  0.3414582468032837,\n",
              "  0.3315301879492673,\n",
              "  0.3228244404489344,\n",
              "  0.3148642705743963,\n",
              "  0.30797701840942554,\n",
              "  0.3005993940461766,\n",
              "  0.29408636103326624,\n",
              "  0.28771429601149123,\n",
              "  0.2819094991423867,\n",
              "  0.27613321204618974,\n",
              "  0.2714166876489466,\n",
              "  0.26569932854175565,\n",
              "  0.260316989532384,\n",
              "  0.25573932647488334,\n",
              "  0.25118364472605964,\n",
              "  0.24717055687687614,\n",
              "  0.24133239627534692,\n",
              "  0.2385519673293287,\n",
              "  0.23386947129314595,\n",
              "  0.23056239160407674,\n",
              "  0.22604538255821574,\n",
              "  0.2220829115358266],\n",
              " 'val_accuracy': [0.8352,\n",
              "  0.8448,\n",
              "  0.8186,\n",
              "  0.8688,\n",
              "  0.8748,\n",
              "  0.8696,\n",
              "  0.8704,\n",
              "  0.8788,\n",
              "  0.8778,\n",
              "  0.876,\n",
              "  0.874,\n",
              "  0.88,\n",
              "  0.8808,\n",
              "  0.8844,\n",
              "  0.8814,\n",
              "  0.8798,\n",
              "  0.8834,\n",
              "  0.8836,\n",
              "  0.8848,\n",
              "  0.8832,\n",
              "  0.886,\n",
              "  0.882,\n",
              "  0.8934,\n",
              "  0.885,\n",
              "  0.8882,\n",
              "  0.8868,\n",
              "  0.8898,\n",
              "  0.8928,\n",
              "  0.89,\n",
              "  0.888],\n",
              " 'val_loss': [0.5058564610481262,\n",
              "  0.45148201367855073,\n",
              "  0.4875721020936966,\n",
              "  0.3947625726222992,\n",
              "  0.38065477699041367,\n",
              "  0.3790490903735161,\n",
              "  0.36903859815597534,\n",
              "  0.35005692353248596,\n",
              "  0.35442128081321717,\n",
              "  0.3478150477647781,\n",
              "  0.36844686468839644,\n",
              "  0.33736337023377416,\n",
              "  0.3339390399932861,\n",
              "  0.32900357786417006,\n",
              "  0.33141025045514105,\n",
              "  0.3271295065879822,\n",
              "  0.3297699538707733,\n",
              "  0.32153883583545684,\n",
              "  0.3171625287055969,\n",
              "  0.32042133958935737,\n",
              "  0.31212209178209305,\n",
              "  0.31989718350470064,\n",
              "  0.2997511296212673,\n",
              "  0.3164505875468254,\n",
              "  0.31536669512987137,\n",
              "  0.3076783592969179,\n",
              "  0.30149147235155105,\n",
              "  0.3021117437005043,\n",
              "  0.2991126976132393,\n",
              "  0.2990083387285471]}"
            ]
          },
          "metadata": {
            "tags": []
          },
          "execution_count": 36
        }
      ]
    },
    {
      "cell_type": "code",
      "metadata": {
        "id": "t9ng_vceQCNW",
        "colab_type": "code",
        "colab": {
          "base_uri": "https://localhost:8080/",
          "height": 34
        },
        "outputId": "bdf5f560-0f26-4ced-f5f2-d3b9f23885fc"
      },
      "source": [
        "history.history.keys()"
      ],
      "execution_count": 38,
      "outputs": [
        {
          "output_type": "execute_result",
          "data": {
            "text/plain": [
              "dict_keys(['loss', 'accuracy', 'val_loss', 'val_accuracy'])"
            ]
          },
          "metadata": {
            "tags": []
          },
          "execution_count": 38
        }
      ]
    },
    {
      "cell_type": "code",
      "metadata": {
        "id": "xG5Nu0GrQIVz",
        "colab_type": "code",
        "colab": {}
      },
      "source": [
        "import pandas as pd\n",
        "import matplotlib.pyplot as plt\n",
        "history_df = pd.DataFrame(history.history)"
      ],
      "execution_count": 0,
      "outputs": []
    },
    {
      "cell_type": "code",
      "metadata": {
        "id": "I3UHmTPAQd4z",
        "colab_type": "code",
        "colab": {
          "base_uri": "https://localhost:8080/",
          "height": 979
        },
        "outputId": "ffabaab1-3c71-4594-e2ab-8e213f1fba17"
      },
      "source": [
        "history_df"
      ],
      "execution_count": 40,
      "outputs": [
        {
          "output_type": "execute_result",
          "data": {
            "text/html": [
              "<div>\n",
              "<style scoped>\n",
              "    .dataframe tbody tr th:only-of-type {\n",
              "        vertical-align: middle;\n",
              "    }\n",
              "\n",
              "    .dataframe tbody tr th {\n",
              "        vertical-align: top;\n",
              "    }\n",
              "\n",
              "    .dataframe thead th {\n",
              "        text-align: right;\n",
              "    }\n",
              "</style>\n",
              "<table border=\"1\" class=\"dataframe\">\n",
              "  <thead>\n",
              "    <tr style=\"text-align: right;\">\n",
              "      <th></th>\n",
              "      <th>loss</th>\n",
              "      <th>accuracy</th>\n",
              "      <th>val_loss</th>\n",
              "      <th>val_accuracy</th>\n",
              "    </tr>\n",
              "  </thead>\n",
              "  <tbody>\n",
              "    <tr>\n",
              "      <th>0</th>\n",
              "      <td>0.710106</td>\n",
              "      <td>0.767745</td>\n",
              "      <td>0.505856</td>\n",
              "      <td>0.8352</td>\n",
              "    </tr>\n",
              "    <tr>\n",
              "      <th>1</th>\n",
              "      <td>0.488711</td>\n",
              "      <td>0.830636</td>\n",
              "      <td>0.451482</td>\n",
              "      <td>0.8448</td>\n",
              "    </tr>\n",
              "    <tr>\n",
              "      <th>2</th>\n",
              "      <td>0.444217</td>\n",
              "      <td>0.844400</td>\n",
              "      <td>0.487572</td>\n",
              "      <td>0.8186</td>\n",
              "    </tr>\n",
              "    <tr>\n",
              "      <th>3</th>\n",
              "      <td>0.414326</td>\n",
              "      <td>0.855400</td>\n",
              "      <td>0.394763</td>\n",
              "      <td>0.8688</td>\n",
              "    </tr>\n",
              "    <tr>\n",
              "      <th>4</th>\n",
              "      <td>0.395208</td>\n",
              "      <td>0.861109</td>\n",
              "      <td>0.380655</td>\n",
              "      <td>0.8748</td>\n",
              "    </tr>\n",
              "    <tr>\n",
              "      <th>5</th>\n",
              "      <td>0.376904</td>\n",
              "      <td>0.867473</td>\n",
              "      <td>0.379049</td>\n",
              "      <td>0.8696</td>\n",
              "    </tr>\n",
              "    <tr>\n",
              "      <th>6</th>\n",
              "      <td>0.364171</td>\n",
              "      <td>0.871855</td>\n",
              "      <td>0.369039</td>\n",
              "      <td>0.8704</td>\n",
              "    </tr>\n",
              "    <tr>\n",
              "      <th>7</th>\n",
              "      <td>0.350991</td>\n",
              "      <td>0.876473</td>\n",
              "      <td>0.350057</td>\n",
              "      <td>0.8788</td>\n",
              "    </tr>\n",
              "    <tr>\n",
              "      <th>8</th>\n",
              "      <td>0.341458</td>\n",
              "      <td>0.878164</td>\n",
              "      <td>0.354421</td>\n",
              "      <td>0.8778</td>\n",
              "    </tr>\n",
              "    <tr>\n",
              "      <th>9</th>\n",
              "      <td>0.331530</td>\n",
              "      <td>0.881527</td>\n",
              "      <td>0.347815</td>\n",
              "      <td>0.8760</td>\n",
              "    </tr>\n",
              "    <tr>\n",
              "      <th>10</th>\n",
              "      <td>0.322824</td>\n",
              "      <td>0.885436</td>\n",
              "      <td>0.368447</td>\n",
              "      <td>0.8740</td>\n",
              "    </tr>\n",
              "    <tr>\n",
              "      <th>11</th>\n",
              "      <td>0.314864</td>\n",
              "      <td>0.887818</td>\n",
              "      <td>0.337363</td>\n",
              "      <td>0.8800</td>\n",
              "    </tr>\n",
              "    <tr>\n",
              "      <th>12</th>\n",
              "      <td>0.307977</td>\n",
              "      <td>0.889382</td>\n",
              "      <td>0.333939</td>\n",
              "      <td>0.8808</td>\n",
              "    </tr>\n",
              "    <tr>\n",
              "      <th>13</th>\n",
              "      <td>0.300599</td>\n",
              "      <td>0.892673</td>\n",
              "      <td>0.329004</td>\n",
              "      <td>0.8844</td>\n",
              "    </tr>\n",
              "    <tr>\n",
              "      <th>14</th>\n",
              "      <td>0.294086</td>\n",
              "      <td>0.894800</td>\n",
              "      <td>0.331410</td>\n",
              "      <td>0.8814</td>\n",
              "    </tr>\n",
              "    <tr>\n",
              "      <th>15</th>\n",
              "      <td>0.287714</td>\n",
              "      <td>0.897455</td>\n",
              "      <td>0.327130</td>\n",
              "      <td>0.8798</td>\n",
              "    </tr>\n",
              "    <tr>\n",
              "      <th>16</th>\n",
              "      <td>0.281909</td>\n",
              "      <td>0.899055</td>\n",
              "      <td>0.329770</td>\n",
              "      <td>0.8834</td>\n",
              "    </tr>\n",
              "    <tr>\n",
              "      <th>17</th>\n",
              "      <td>0.276133</td>\n",
              "      <td>0.900582</td>\n",
              "      <td>0.321539</td>\n",
              "      <td>0.8836</td>\n",
              "    </tr>\n",
              "    <tr>\n",
              "      <th>18</th>\n",
              "      <td>0.271417</td>\n",
              "      <td>0.902291</td>\n",
              "      <td>0.317163</td>\n",
              "      <td>0.8848</td>\n",
              "    </tr>\n",
              "    <tr>\n",
              "      <th>19</th>\n",
              "      <td>0.265699</td>\n",
              "      <td>0.905127</td>\n",
              "      <td>0.320421</td>\n",
              "      <td>0.8832</td>\n",
              "    </tr>\n",
              "    <tr>\n",
              "      <th>20</th>\n",
              "      <td>0.260317</td>\n",
              "      <td>0.907509</td>\n",
              "      <td>0.312122</td>\n",
              "      <td>0.8860</td>\n",
              "    </tr>\n",
              "    <tr>\n",
              "      <th>21</th>\n",
              "      <td>0.255739</td>\n",
              "      <td>0.908091</td>\n",
              "      <td>0.319897</td>\n",
              "      <td>0.8820</td>\n",
              "    </tr>\n",
              "    <tr>\n",
              "      <th>22</th>\n",
              "      <td>0.251184</td>\n",
              "      <td>0.910473</td>\n",
              "      <td>0.299751</td>\n",
              "      <td>0.8934</td>\n",
              "    </tr>\n",
              "    <tr>\n",
              "      <th>23</th>\n",
              "      <td>0.247171</td>\n",
              "      <td>0.911855</td>\n",
              "      <td>0.316451</td>\n",
              "      <td>0.8850</td>\n",
              "    </tr>\n",
              "    <tr>\n",
              "      <th>24</th>\n",
              "      <td>0.241332</td>\n",
              "      <td>0.913709</td>\n",
              "      <td>0.315367</td>\n",
              "      <td>0.8882</td>\n",
              "    </tr>\n",
              "    <tr>\n",
              "      <th>25</th>\n",
              "      <td>0.238552</td>\n",
              "      <td>0.914164</td>\n",
              "      <td>0.307678</td>\n",
              "      <td>0.8868</td>\n",
              "    </tr>\n",
              "    <tr>\n",
              "      <th>26</th>\n",
              "      <td>0.233869</td>\n",
              "      <td>0.915527</td>\n",
              "      <td>0.301491</td>\n",
              "      <td>0.8898</td>\n",
              "    </tr>\n",
              "    <tr>\n",
              "      <th>27</th>\n",
              "      <td>0.230562</td>\n",
              "      <td>0.916873</td>\n",
              "      <td>0.302112</td>\n",
              "      <td>0.8928</td>\n",
              "    </tr>\n",
              "    <tr>\n",
              "      <th>28</th>\n",
              "      <td>0.226045</td>\n",
              "      <td>0.920073</td>\n",
              "      <td>0.299113</td>\n",
              "      <td>0.8900</td>\n",
              "    </tr>\n",
              "    <tr>\n",
              "      <th>29</th>\n",
              "      <td>0.222083</td>\n",
              "      <td>0.920291</td>\n",
              "      <td>0.299008</td>\n",
              "      <td>0.8880</td>\n",
              "    </tr>\n",
              "  </tbody>\n",
              "</table>\n",
              "</div>"
            ],
            "text/plain": [
              "        loss  accuracy  val_loss  val_accuracy\n",
              "0   0.710106  0.767745  0.505856        0.8352\n",
              "1   0.488711  0.830636  0.451482        0.8448\n",
              "2   0.444217  0.844400  0.487572        0.8186\n",
              "3   0.414326  0.855400  0.394763        0.8688\n",
              "4   0.395208  0.861109  0.380655        0.8748\n",
              "5   0.376904  0.867473  0.379049        0.8696\n",
              "6   0.364171  0.871855  0.369039        0.8704\n",
              "7   0.350991  0.876473  0.350057        0.8788\n",
              "8   0.341458  0.878164  0.354421        0.8778\n",
              "9   0.331530  0.881527  0.347815        0.8760\n",
              "10  0.322824  0.885436  0.368447        0.8740\n",
              "11  0.314864  0.887818  0.337363        0.8800\n",
              "12  0.307977  0.889382  0.333939        0.8808\n",
              "13  0.300599  0.892673  0.329004        0.8844\n",
              "14  0.294086  0.894800  0.331410        0.8814\n",
              "15  0.287714  0.897455  0.327130        0.8798\n",
              "16  0.281909  0.899055  0.329770        0.8834\n",
              "17  0.276133  0.900582  0.321539        0.8836\n",
              "18  0.271417  0.902291  0.317163        0.8848\n",
              "19  0.265699  0.905127  0.320421        0.8832\n",
              "20  0.260317  0.907509  0.312122        0.8860\n",
              "21  0.255739  0.908091  0.319897        0.8820\n",
              "22  0.251184  0.910473  0.299751        0.8934\n",
              "23  0.247171  0.911855  0.316451        0.8850\n",
              "24  0.241332  0.913709  0.315367        0.8882\n",
              "25  0.238552  0.914164  0.307678        0.8868\n",
              "26  0.233869  0.915527  0.301491        0.8898\n",
              "27  0.230562  0.916873  0.302112        0.8928\n",
              "28  0.226045  0.920073  0.299113        0.8900\n",
              "29  0.222083  0.920291  0.299008        0.8880"
            ]
          },
          "metadata": {
            "tags": []
          },
          "execution_count": 40
        }
      ]
    },
    {
      "cell_type": "code",
      "metadata": {
        "id": "OFIJEgUcQfOA",
        "colab_type": "code",
        "colab": {
          "base_uri": "https://localhost:8080/",
          "height": 324
        },
        "outputId": "730e15d4-a6bc-41f3-e054-b55f25c89400"
      },
      "source": [
        "history_df.plot(figsize=(8,5))\n",
        "plt.grid(True)\n",
        "plt.gca().set_ylim(0,1)\n",
        "plt.show()"
      ],
      "execution_count": 41,
      "outputs": [
        {
          "output_type": "display_data",
          "data": {
            "image/png": "[encoded data removed]",
            "text/plain": [
              "<Figure size 576x360 with 1 Axes>"
            ]
          },
          "metadata": {
            "tags": []
          }
        }
      ]
    },
    {
      "cell_type": "markdown",
      "metadata": {
        "id": "Bdh1MYmYSxis",
        "colab_type": "text"
      },
      "source": [
        "#### Evaluating the model"
      ]
    },
    {
      "cell_type": "code",
      "metadata": {
        "id": "OvwqibHiQzBo",
        "colab_type": "code",
        "colab": {
          "base_uri": "https://localhost:8080/",
          "height": 51
        },
        "outputId": "d8cb7c2b-eb74-4875-9e9f-c2be9cef9028"
      },
      "source": [
        "model.evaluate(X_test,y_test)"
      ],
      "execution_count": 42,
      "outputs": [
        {
          "output_type": "stream",
          "text": [
            "10000/10000 [==============================] - 1s 61us/sample - loss: 56.2348 - accuracy: 0.8560\n"
          ],
          "name": "stdout"
        },
        {
          "output_type": "execute_result",
          "data": {
            "text/plain": [
              "[56.23482367858887, 0.856]"
            ]
          },
          "metadata": {
            "tags": []
          },
          "execution_count": 42
        }
      ]
    },
    {
      "cell_type": "markdown",
      "metadata": {
        "id": "rT9wN1IJS1z3",
        "colab_type": "text"
      },
      "source": [
        "#### Making Predictions"
      ]
    },
    {
      "cell_type": "code",
      "metadata": {
        "id": "RuUQAwCySkPC",
        "colab_type": "code",
        "colab": {}
      },
      "source": [
        "X_new = X_test[:3]\n",
        "y_proba = model.predict(X_new)"
      ],
      "execution_count": 0,
      "outputs": []
    },
    {
      "cell_type": "code",
      "metadata": {
        "id": "lZp7yS0SUCtE",
        "colab_type": "code",
        "colab": {
          "base_uri": "https://localhost:8080/",
          "height": 68
        },
        "outputId": "8271d3b6-317d-4381-fe9b-43a20b4e0735"
      },
      "source": [
        "y_proba.round(2)"
      ],
      "execution_count": 45,
      "outputs": [
        {
          "output_type": "execute_result",
          "data": {
            "text/plain": [
              "array([[0., 0., 0., 0., 0., 0., 0., 0., 0., 1.],\n",
              "       [0., 0., 1., 0., 0., 0., 0., 0., 0., 0.],\n",
              "       [0., 1., 0., 0., 0., 0., 0., 0., 0., 0.]], dtype=float32)"
            ]
          },
          "metadata": {
            "tags": []
          },
          "execution_count": 45
        }
      ]
    },
    {
      "cell_type": "code",
      "metadata": {
        "id": "0Mg0PxMnUDy9",
        "colab_type": "code",
        "colab": {}
      },
      "source": [
        "y_pred = model.predict_classes(X_new)"
      ],
      "execution_count": 0,
      "outputs": []
    },
    {
      "cell_type": "code",
      "metadata": {
        "id": "AZukWR0iUw7l",
        "colab_type": "code",
        "colab": {
          "base_uri": "https://localhost:8080/",
          "height": 34
        },
        "outputId": "84b1e015-12a2-4e5f-e679-d832e7046745"
      },
      "source": [
        "y_pred"
      ],
      "execution_count": 47,
      "outputs": [
        {
          "output_type": "execute_result",
          "data": {
            "text/plain": [
              "array([9, 2, 1])"
            ]
          },
          "metadata": {
            "tags": []
          },
          "execution_count": 47
        }
      ]
    },
    {
      "cell_type": "code",
      "metadata": {
        "id": "s4r1_sU0UyV6",
        "colab_type": "code",
        "colab": {
          "base_uri": "https://localhost:8080/",
          "height": 34
        },
        "outputId": "4bd74b81-0bf0-45df-868b-e61509e39ba6"
      },
      "source": [
        "y_test[:3]"
      ],
      "execution_count": 48,
      "outputs": [
        {
          "output_type": "execute_result",
          "data": {
            "text/plain": [
              "array([9, 2, 1], dtype=uint8)"
            ]
          },
          "metadata": {
            "tags": []
          },
          "execution_count": 48
        }
      ]
    },
    {
      "cell_type": "code",
      "metadata": {
        "id": "wc0cce5FU5wi",
        "colab_type": "code",
        "colab": {}
      },
      "source": [
        ""
      ],
      "execution_count": 0,
      "outputs": []
    }
  ]
}